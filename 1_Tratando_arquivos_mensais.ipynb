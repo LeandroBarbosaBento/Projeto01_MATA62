{
 "cells": [
  {
   "cell_type": "code",
   "execution_count": 13,
   "metadata": {
    "id": "lZVynojx63l5"
   },
   "outputs": [],
   "source": [
    "import pandas as pd\n",
    "import os"
   ]
  },
  {
   "cell_type": "code",
   "execution_count": 2,
   "metadata": {
    "id": "h5eVf28CY5F3"
   },
   "outputs": [],
   "source": [
    "meses = ['janeiro','fevereiro','março','abril','maio','junho','julho','agosto','setembro','outubro','novembro','dezembro']"
   ]
  },
  {
   "cell_type": "markdown",
   "metadata": {
    "id": "KDgTxbsmcMPD"
   },
   "source": [
    "*****DADOS DE 2015*****"
   ]
  },
  {
   "cell_type": "code",
   "execution_count": 4,
   "metadata": {
    "id": "_EgDTeSOxxtp",
    "scrolled": false
   },
   "outputs": [
    {
     "name": "stdout",
     "output_type": "stream",
     "text": [
      "1: (114636, 13)\n",
      "Index(['Sigla  da Empresa', 'Número do Voo', 'D I', 'Tipo de Linha',\n",
      "       'Aeroporto Origem', 'Aeroporto Destino', 'Partida Prevista',\n",
      "       'Partida Real', 'Chegada Prevista', 'Chegada Real', 'Situação',\n",
      "       'Justificativa', 'mês'],\n",
      "      dtype='object')\n",
      "janeiro\n",
      "2: (101993, 13)\n",
      "Index(['Sigla  da Empresa', 'Número do Voo', 'D I', 'Tipo de Linha',\n",
      "       'Aeroporto Origem', 'Aeroporto Destino', 'Partida Prevista',\n",
      "       'Partida Real', 'Chegada Prevista', 'Chegada Real', 'Situação',\n",
      "       'Justificativa', 'mês'],\n",
      "      dtype='object')\n",
      "fevereiro\n",
      "3: (111007, 13)\n",
      "Index(['Sigla  da Empresa', 'Número do Voo', 'D I', 'Tipo de Linha',\n",
      "       'Aeroporto Origem', 'Aeroporto Destino', 'Partida Prevista',\n",
      "       'Partida Real', 'Chegada Prevista', 'Chegada Real', 'Situação',\n",
      "       'Justificativa', 'mês'],\n",
      "      dtype='object')\n",
      "março\n",
      "4: (106920, 13)\n",
      "Index(['Sigla  da Empresa', 'Número do Voo', 'D I', 'Tipo de Linha',\n",
      "       'Aeroporto Origem', 'Aeroporto Destino', 'Partida Prevista',\n",
      "       'Partida Real', 'Chegada Prevista', 'Chegada Real', 'Situação',\n",
      "       'Justificativa', 'mês'],\n",
      "      dtype='object')\n",
      "abril\n",
      "5: (108354, 13)\n",
      "Index(['Sigla  da Empresa', 'Número do Voo', 'D I', 'Tipo de Linha',\n",
      "       'Aeroporto Origem', 'Aeroporto Destino', 'Partida Prevista',\n",
      "       'Partida Real', 'Chegada Prevista', 'Chegada Real', 'Situação',\n",
      "       'Justificativa', 'mês'],\n",
      "      dtype='object')\n",
      "maio\n",
      "6: (105698, 13)\n",
      "Index(['Sigla  da Empresa', 'Número do Voo', 'D I', 'Tipo de Linha',\n",
      "       'Aeroporto Origem', 'Aeroporto Destino', 'Partida Prevista',\n",
      "       'Partida Real', 'Chegada Prevista', 'Chegada Real', 'Situação',\n",
      "       'Justificativa', 'mês'],\n",
      "      dtype='object')\n",
      "junho\n",
      "7: (112154, 13)\n",
      "Index(['Sigla  da Empresa', 'Número do Voo', 'D I', 'Tipo de Linha',\n",
      "       'Aeroporto Origem', 'Aeroporto Destino', 'Partida Prevista',\n",
      "       'Partida Real', 'Chegada Prevista', 'Chegada Real', 'Situação',\n",
      "       'Justificativa', 'mês'],\n",
      "      dtype='object')\n",
      "julho\n",
      "8: (108044, 13)\n",
      "Index(['Sigla  da Empresa', 'Número do Voo', 'D I', 'Tipo de Linha',\n",
      "       'Aeroporto Origem', 'Aeroporto Destino', 'Partida Prevista',\n",
      "       'Partida Real', 'Chegada Prevista', 'Chegada Real', 'Situação',\n",
      "       'Justificativa', 'mês'],\n",
      "      dtype='object')\n",
      "agosto\n",
      "9: (107418, 13)\n",
      "Index(['Sigla  da Empresa', 'Número do Voo', 'D I', 'Tipo de Linha',\n",
      "       'Aeroporto Origem', 'Aeroporto Destino', 'Partida Prevista',\n",
      "       'Partida Real', 'Chegada Prevista', 'Chegada Real', 'Situação',\n",
      "       'Justificativa', 'mês'],\n",
      "      dtype='object')\n",
      "setembro\n",
      "10: (109146, 13)\n",
      "Index(['Sigla  da Empresa', 'Número do Voo', 'D I', 'Tipo de Linha',\n",
      "       'Aeroporto Origem', 'Aeroporto Destino', 'Partida Prevista',\n",
      "       'Partida Real', 'Chegada Prevista', 'Chegada Real', 'Situação',\n",
      "       'Justificativa', 'mês'],\n",
      "      dtype='object')\n",
      "outubro\n",
      "11: (104384, 13)\n",
      "Index(['Sigla  da Empresa', 'Número do Voo', 'D I', 'Tipo de Linha',\n",
      "       'Aeroporto Origem', 'Aeroporto Destino', 'Partida Prevista',\n",
      "       'Partida Real', 'Chegada Prevista', 'Chegada Real', 'Situação',\n",
      "       'Justificativa', 'mês'],\n",
      "      dtype='object')\n",
      "novembro\n",
      "12: (111816, 13)\n",
      "Index(['Sigla  da Empresa', 'Número do Voo', 'D I', 'Tipo de Linha',\n",
      "       'Aeroporto Origem', 'Aeroporto Destino', 'Partida Prevista',\n",
      "       'Partida Real', 'Chegada Prevista', 'Chegada Real', 'Situação',\n",
      "       'Justificativa', 'mês'],\n",
      "      dtype='object')\n",
      "dezembro\n"
     ]
    }
   ],
   "source": [
    "caminho = 'DadosBrutos/2015/2015_{}.csv'\n",
    "\n",
    "#Lista na qual cada elemento é um dataframe de um mês do ano\n",
    "lista = []\n",
    "\n",
    "for i in range(1, 13):\n",
    "  if i <= 10:\n",
    "    lista.append(pd.read_csv(caminho.format(i), sep = ';', encoding = 'ISO-8859-1', parse_dates = True, low_memory=False))\n",
    "  else:\n",
    "    lista.append(pd.read_csv(caminho.format(i), sep = ',', encoding = 'ISO-8859-1', parse_dates = True, low_memory=False))\n",
    "  lista[i-1].columns = ['Sigla  da Empresa', 'Número do Voo', 'D I', 'Tipo de Linha', 'Aeroporto Origem', 'Aeroporto Destino', 'Partida Prevista', 'Partida Real', 'Chegada Prevista', 'Chegada Real', 'Situação', 'Justificativa']\n",
    "  lista[i-1]['mês'] = meses[i-1]\n",
    "\n",
    "\n",
    "  print(i, end=\": \")\n",
    "  print(lista[i-1].shape)\n",
    "  print(lista[i-1].columns)\n",
    "  print(meses[i-1])\n",
    "\n",
    "#Observação: necessário usar um separador (sept) diferente para os arquivos dos meses 11 e 12"
   ]
  },
  {
   "cell_type": "code",
   "execution_count": 5,
   "metadata": {
    "id": "PgZVzXrzxR9J"
   },
   "outputs": [],
   "source": [
    "#Concatenação dos dataframes da lista para formar um único dataframe com todos os voos do ano\n",
    "dados2015 = pd.concat(lista, axis = 0)"
   ]
  },
  {
   "cell_type": "code",
   "execution_count": 6,
   "metadata": {
    "id": "IGC9m6JBHgPs"
   },
   "outputs": [
    {
     "data": {
      "text/html": [
       "<div>\n",
       "<style scoped>\n",
       "    .dataframe tbody tr th:only-of-type {\n",
       "        vertical-align: middle;\n",
       "    }\n",
       "\n",
       "    .dataframe tbody tr th {\n",
       "        vertical-align: top;\n",
       "    }\n",
       "\n",
       "    .dataframe thead th {\n",
       "        text-align: right;\n",
       "    }\n",
       "</style>\n",
       "<table border=\"1\" class=\"dataframe\">\n",
       "  <thead>\n",
       "    <tr style=\"text-align: right;\">\n",
       "      <th></th>\n",
       "      <th>Sigla  da Empresa</th>\n",
       "      <th>Número do Voo</th>\n",
       "      <th>D I</th>\n",
       "      <th>Tipo de Linha</th>\n",
       "      <th>Aeroporto Origem</th>\n",
       "      <th>Aeroporto Destino</th>\n",
       "      <th>Partida Prevista</th>\n",
       "      <th>Partida Real</th>\n",
       "      <th>Chegada Prevista</th>\n",
       "      <th>Chegada Real</th>\n",
       "      <th>Situação</th>\n",
       "      <th>Justificativa</th>\n",
       "      <th>mês</th>\n",
       "    </tr>\n",
       "  </thead>\n",
       "  <tbody>\n",
       "    <tr>\n",
       "      <th>0</th>\n",
       "      <td>RIO</td>\n",
       "      <td>5973</td>\n",
       "      <td>0</td>\n",
       "      <td>L</td>\n",
       "      <td>SBGR</td>\n",
       "      <td>SBSV</td>\n",
       "      <td>29/01/2015 03:20</td>\n",
       "      <td>29/01/2015 03:37</td>\n",
       "      <td>29/01/2015 05:50</td>\n",
       "      <td>29/01/2015 05:47</td>\n",
       "      <td>Realizado</td>\n",
       "      <td>RA</td>\n",
       "      <td>janeiro</td>\n",
       "    </tr>\n",
       "    <tr>\n",
       "      <th>1</th>\n",
       "      <td>AZU</td>\n",
       "      <td>2505</td>\n",
       "      <td>0</td>\n",
       "      <td>N</td>\n",
       "      <td>SBSM</td>\n",
       "      <td>SBPA</td>\n",
       "      <td>27/01/2015 05:10</td>\n",
       "      <td>27/01/2015 04:56</td>\n",
       "      <td>27/01/2015 05:50</td>\n",
       "      <td>27/01/2015 05:44</td>\n",
       "      <td>Realizado</td>\n",
       "      <td>HD</td>\n",
       "      <td>janeiro</td>\n",
       "    </tr>\n",
       "    <tr>\n",
       "      <th>2</th>\n",
       "      <td>AZU</td>\n",
       "      <td>2505</td>\n",
       "      <td>0</td>\n",
       "      <td>N</td>\n",
       "      <td>SBSM</td>\n",
       "      <td>SBPA</td>\n",
       "      <td>09/01/2015 05:10</td>\n",
       "      <td>09/01/2015 05:00</td>\n",
       "      <td>09/01/2015 05:50</td>\n",
       "      <td>09/01/2015 05:44</td>\n",
       "      <td>Realizado</td>\n",
       "      <td>HD</td>\n",
       "      <td>janeiro</td>\n",
       "    </tr>\n",
       "    <tr>\n",
       "      <th>3</th>\n",
       "      <td>RIO</td>\n",
       "      <td>5973</td>\n",
       "      <td>0</td>\n",
       "      <td>L</td>\n",
       "      <td>SBGR</td>\n",
       "      <td>SBSV</td>\n",
       "      <td>23/01/2015 03:20</td>\n",
       "      <td>23/01/2015 03:38</td>\n",
       "      <td>23/01/2015 05:50</td>\n",
       "      <td>23/01/2015 05:44</td>\n",
       "      <td>Realizado</td>\n",
       "      <td>MX</td>\n",
       "      <td>janeiro</td>\n",
       "    </tr>\n",
       "    <tr>\n",
       "      <th>4</th>\n",
       "      <td>AZU</td>\n",
       "      <td>2505</td>\n",
       "      <td>0</td>\n",
       "      <td>N</td>\n",
       "      <td>SBSM</td>\n",
       "      <td>SBPA</td>\n",
       "      <td>05/01/2015 05:10</td>\n",
       "      <td>05/01/2015 04:56</td>\n",
       "      <td>05/01/2015 05:50</td>\n",
       "      <td>05/01/2015 05:41</td>\n",
       "      <td>Realizado</td>\n",
       "      <td>HD</td>\n",
       "      <td>janeiro</td>\n",
       "    </tr>\n",
       "  </tbody>\n",
       "</table>\n",
       "</div>"
      ],
      "text/plain": [
       "  Sigla  da Empresa  Número do Voo D I Tipo de Linha Aeroporto Origem  \\\n",
       "0               RIO           5973   0             L             SBGR   \n",
       "1               AZU           2505   0             N             SBSM   \n",
       "2               AZU           2505   0             N             SBSM   \n",
       "3               RIO           5973   0             L             SBGR   \n",
       "4               AZU           2505   0             N             SBSM   \n",
       "\n",
       "  Aeroporto Destino  Partida Prevista      Partida Real  Chegada Prevista  \\\n",
       "0              SBSV  29/01/2015 03:20  29/01/2015 03:37  29/01/2015 05:50   \n",
       "1              SBPA  27/01/2015 05:10  27/01/2015 04:56  27/01/2015 05:50   \n",
       "2              SBPA  09/01/2015 05:10  09/01/2015 05:00  09/01/2015 05:50   \n",
       "3              SBSV  23/01/2015 03:20  23/01/2015 03:38  23/01/2015 05:50   \n",
       "4              SBPA  05/01/2015 05:10  05/01/2015 04:56  05/01/2015 05:50   \n",
       "\n",
       "       Chegada Real   Situação Justificativa      mês  \n",
       "0  29/01/2015 05:47  Realizado            RA  janeiro  \n",
       "1  27/01/2015 05:44  Realizado            HD  janeiro  \n",
       "2  09/01/2015 05:44  Realizado            HD  janeiro  \n",
       "3  23/01/2015 05:44  Realizado            MX  janeiro  \n",
       "4  05/01/2015 05:41  Realizado            HD  janeiro  "
      ]
     },
     "execution_count": 6,
     "metadata": {},
     "output_type": "execute_result"
    }
   ],
   "source": [
    "dados2015.head()"
   ]
  },
  {
   "cell_type": "code",
   "execution_count": 7,
   "metadata": {
    "id": "sg1ZAqlmuExc"
   },
   "outputs": [
    {
     "data": {
      "text/plain": [
       "(1301570, 13)"
      ]
     },
     "execution_count": 7,
     "metadata": {},
     "output_type": "execute_result"
    }
   ],
   "source": [
    "#Quantidade de linhas e colunas\n",
    "dados2015.shape"
   ]
  },
  {
   "cell_type": "code",
   "execution_count": 17,
   "metadata": {},
   "outputs": [],
   "source": [
    "#Criar pasta para salvar os arquivos de 2015\n",
    "os.mkdir('./2015')"
   ]
  },
  {
   "cell_type": "code",
   "execution_count": 18,
   "metadata": {
    "id": "pH3D1f-4xyAy"
   },
   "outputs": [
    {
     "name": "stdout",
     "output_type": "stream",
     "text": [
      "2015/2015_1.csv\n",
      "2015/2015_2.csv\n",
      "2015/2015_3.csv\n",
      "2015/2015_4.csv\n",
      "2015/2015_5.csv\n",
      "2015/2015_6.csv\n",
      "2015/2015_7.csv\n",
      "2015/2015_8.csv\n",
      "2015/2015_9.csv\n",
      "2015/2015_10.csv\n",
      "2015/2015_11.csv\n",
      "2015/2015_12.csv\n"
     ]
    }
   ],
   "source": [
    "#Exportar dados de 2015 em arquivos .CSV mensais com a mesma formatação\n",
    "\n",
    "nome = \"2015/2015_{}.csv\"\n",
    "aux = 1\n",
    "for i in lista:\n",
    "    i.to_csv(nome.format(aux), index = False)\n",
    "    print(nome.format(aux))\n",
    "    aux += 1\n",
    "    "
   ]
  },
  {
   "cell_type": "code",
   "execution_count": null,
   "metadata": {},
   "outputs": [],
   "source": []
  },
  {
   "cell_type": "code",
   "execution_count": 8,
   "metadata": {
    "id": "ri5fmltu5uBy"
   },
   "outputs": [
    {
     "data": {
      "text/plain": [
       "Index(['Sigla  da Empresa', 'Número do Voo', 'D I', 'Tipo de Linha',\n",
       "       'Aeroporto Origem', 'Aeroporto Destino', 'Partida Prevista',\n",
       "       'Partida Real', 'Chegada Prevista', 'Chegada Real', 'Situação',\n",
       "       'Justificativa', 'mês'],\n",
       "      dtype='object')"
      ]
     },
     "execution_count": 8,
     "metadata": {},
     "output_type": "execute_result"
    }
   ],
   "source": [
    "#Nomes das colunas\n",
    "dados2015.columns"
   ]
  },
  {
   "cell_type": "markdown",
   "metadata": {
    "id": "I_6t8Ut_xyF5"
   },
   "source": [
    "*****DADOS DE 2016******"
   ]
  },
  {
   "cell_type": "code",
   "execution_count": 19,
   "metadata": {
    "id": "S32pEGiDcUm_"
   },
   "outputs": [],
   "source": [
    "caminho = 'DadosBrutos/2016/2016_{}.csv'\n",
    "lista.clear()"
   ]
  },
  {
   "cell_type": "code",
   "execution_count": 20,
   "metadata": {
    "id": "H3-1oGEWcU24"
   },
   "outputs": [
    {
     "name": "stdout",
     "output_type": "stream",
     "text": [
      "1: (114259, 13)\n",
      "Index(['Sigla  da Empresa', 'Número do Voo', 'D I', 'Tipo de Linha',\n",
      "       'Aeroporto Origem', 'Aeroporto Destino', 'Partida Prevista',\n",
      "       'Partida Real', 'Chegada Prevista', 'Chegada Real', 'Situação',\n",
      "       'Justificativa', 'mês'],\n",
      "      dtype='object')\n",
      "janeiro\n",
      "2: (101668, 13)\n",
      "Index(['Sigla  da Empresa', 'Número do Voo', 'D I', 'Tipo de Linha',\n",
      "       'Aeroporto Origem', 'Aeroporto Destino', 'Partida Prevista',\n",
      "       'Partida Real', 'Chegada Prevista', 'Chegada Real', 'Situação',\n",
      "       'Justificativa', 'mês'],\n",
      "      dtype='object')\n",
      "fevereiro\n",
      "3: (101865, 13)\n",
      "Index(['Sigla  da Empresa', 'Número do Voo', 'D I', 'Tipo de Linha',\n",
      "       'Aeroporto Origem', 'Aeroporto Destino', 'Partida Prevista',\n",
      "       'Partida Real', 'Chegada Prevista', 'Chegada Real', 'Situação',\n",
      "       'Justificativa', 'mês'],\n",
      "      dtype='object')\n",
      "março\n",
      "4: (98960, 13)\n",
      "Index(['Sigla  da Empresa', 'Número do Voo', 'D I', 'Tipo de Linha',\n",
      "       'Aeroporto Origem', 'Aeroporto Destino', 'Partida Prevista',\n",
      "       'Partida Real', 'Chegada Prevista', 'Chegada Real', 'Situação',\n",
      "       'Justificativa', 'mês'],\n",
      "      dtype='object')\n",
      "abril\n",
      "5: (91856, 13)\n",
      "Index(['Sigla  da Empresa', 'Número do Voo', 'D I', 'Tipo de Linha',\n",
      "       'Aeroporto Origem', 'Aeroporto Destino', 'Partida Prevista',\n",
      "       'Partida Real', 'Chegada Prevista', 'Chegada Real', 'Situação',\n",
      "       'Justificativa', 'mês'],\n",
      "      dtype='object')\n",
      "maio\n",
      "6: (88040, 13)\n",
      "Index(['Sigla  da Empresa', 'Número do Voo', 'D I', 'Tipo de Linha',\n",
      "       'Aeroporto Origem', 'Aeroporto Destino', 'Partida Prevista',\n",
      "       'Partida Real', 'Chegada Prevista', 'Chegada Real', 'Situação',\n",
      "       'Justificativa', 'mês'],\n",
      "      dtype='object')\n",
      "junho\n",
      "7: (92586, 13)\n",
      "Index(['Sigla  da Empresa', 'Número do Voo', 'D I', 'Tipo de Linha',\n",
      "       'Aeroporto Origem', 'Aeroporto Destino', 'Partida Prevista',\n",
      "       'Partida Real', 'Chegada Prevista', 'Chegada Real', 'Situação',\n",
      "       'Justificativa', 'mês'],\n",
      "      dtype='object')\n",
      "julho\n",
      "8: (91502, 13)\n",
      "Index(['Sigla  da Empresa', 'Número do Voo', 'D I', 'Tipo de Linha',\n",
      "       'Aeroporto Origem', 'Aeroporto Destino', 'Partida Prevista',\n",
      "       'Partida Real', 'Chegada Prevista', 'Chegada Real', 'Situação',\n",
      "       'Justificativa', 'mês'],\n",
      "      dtype='object')\n",
      "agosto\n",
      "9: (86440, 13)\n",
      "Index(['Sigla  da Empresa', 'Número do Voo', 'D I', 'Tipo de Linha',\n",
      "       'Aeroporto Origem', 'Aeroporto Destino', 'Partida Prevista',\n",
      "       'Partida Real', 'Chegada Prevista', 'Chegada Real', 'Situação',\n",
      "       'Justificativa', 'mês'],\n",
      "      dtype='object')\n",
      "setembro\n",
      "10: (89624, 13)\n",
      "Index(['Sigla  da Empresa', 'Número do Voo', 'D I', 'Tipo de Linha',\n",
      "       'Aeroporto Origem', 'Aeroporto Destino', 'Partida Prevista',\n",
      "       'Partida Real', 'Chegada Prevista', 'Chegada Real', 'Situação',\n",
      "       'Justificativa', 'mês'],\n",
      "      dtype='object')\n",
      "outubro\n",
      "11: (87066, 13)\n",
      "Index(['Sigla  da Empresa', 'Número do Voo', 'D I', 'Tipo de Linha',\n",
      "       'Aeroporto Origem', 'Aeroporto Destino', 'Partida Prevista',\n",
      "       'Partida Real', 'Chegada Prevista', 'Chegada Real', 'Situação',\n",
      "       'Justificativa', 'mês'],\n",
      "      dtype='object')\n",
      "novembro\n",
      "12: (95140, 13)\n",
      "Index(['Sigla  da Empresa', 'Número do Voo', 'D I', 'Tipo de Linha',\n",
      "       'Aeroporto Origem', 'Aeroporto Destino', 'Partida Prevista',\n",
      "       'Partida Real', 'Chegada Prevista', 'Chegada Real', 'Situação',\n",
      "       'Justificativa', 'mês'],\n",
      "      dtype='object')\n",
      "dezembro\n"
     ]
    }
   ],
   "source": [
    "for i in range(1, 13):\n",
    "  lista.append(pd.read_csv(caminho.format(i), sep = ';', encoding = 'ISO-8859-1', parse_dates = True, low_memory=False))\n",
    "  lista[i-1].columns = ['Sigla  da Empresa', 'Número do Voo', 'D I', 'Tipo de Linha', 'Aeroporto Origem', 'Aeroporto Destino', 'Partida Prevista', 'Partida Real', 'Chegada Prevista', 'Chegada Real', 'Situação', 'Justificativa']\n",
    "  lista[i-1]['mês'] = meses[i-1]\n",
    "\n",
    "  print(i, end=\": \")\n",
    "  print(lista[i-1].shape)\n",
    "  print(lista[i-1].columns)\n",
    "  print(meses[i-1])  "
   ]
  },
  {
   "cell_type": "code",
   "execution_count": 21,
   "metadata": {
    "id": "VrzQOnqmcUua"
   },
   "outputs": [],
   "source": [
    "dados2016 = pd.concat(lista, axis = 0)"
   ]
  },
  {
   "cell_type": "code",
   "execution_count": 22,
   "metadata": {
    "id": "zNo114CVcUU4"
   },
   "outputs": [
    {
     "data": {
      "text/plain": [
       "(1139006, 13)"
      ]
     },
     "execution_count": 22,
     "metadata": {},
     "output_type": "execute_result"
    }
   ],
   "source": [
    "dados2016.shape"
   ]
  },
  {
   "cell_type": "code",
   "execution_count": 23,
   "metadata": {
    "id": "5mEb4YFRghfW"
   },
   "outputs": [
    {
     "data": {
      "text/plain": [
       "Index(['Sigla  da Empresa', 'Número do Voo', 'D I', 'Tipo de Linha',\n",
       "       'Aeroporto Origem', 'Aeroporto Destino', 'Partida Prevista',\n",
       "       'Partida Real', 'Chegada Prevista', 'Chegada Real', 'Situação',\n",
       "       'Justificativa', 'mês'],\n",
       "      dtype='object')"
      ]
     },
     "execution_count": 23,
     "metadata": {},
     "output_type": "execute_result"
    }
   ],
   "source": [
    "dados2016.columns"
   ]
  },
  {
   "cell_type": "code",
   "execution_count": 25,
   "metadata": {},
   "outputs": [],
   "source": [
    "#Criar pasta para salvar os arquivos de 2016\n",
    "os.mkdir('./2016')"
   ]
  },
  {
   "cell_type": "code",
   "execution_count": 26,
   "metadata": {
    "id": "z9fHNwtdghk0"
   },
   "outputs": [
    {
     "name": "stdout",
     "output_type": "stream",
     "text": [
      "2016/2016_1.csv\n",
      "2016/2016_2.csv\n",
      "2016/2016_3.csv\n",
      "2016/2016_4.csv\n",
      "2016/2016_5.csv\n",
      "2016/2016_6.csv\n",
      "2016/2016_7.csv\n",
      "2016/2016_8.csv\n",
      "2016/2016_9.csv\n",
      "2016/2016_10.csv\n",
      "2016/2016_11.csv\n",
      "2016/2016_12.csv\n"
     ]
    }
   ],
   "source": [
    "#Exportar dados de 2016 em arquivos .CSV mensais com a mesma formatação\n",
    "\n",
    "nome = \"2016/2016_{}.csv\"\n",
    "aux = 1\n",
    "for i in lista:\n",
    "    i.to_csv(nome.format(aux), index = False)\n",
    "    print(nome.format(aux))\n",
    "    aux += 1"
   ]
  },
  {
   "cell_type": "code",
   "execution_count": 24,
   "metadata": {
    "id": "OuE1rgH6ghnS"
   },
   "outputs": [
    {
     "data": {
      "text/html": [
       "<div>\n",
       "<style scoped>\n",
       "    .dataframe tbody tr th:only-of-type {\n",
       "        vertical-align: middle;\n",
       "    }\n",
       "\n",
       "    .dataframe tbody tr th {\n",
       "        vertical-align: top;\n",
       "    }\n",
       "\n",
       "    .dataframe thead th {\n",
       "        text-align: right;\n",
       "    }\n",
       "</style>\n",
       "<table border=\"1\" class=\"dataframe\">\n",
       "  <thead>\n",
       "    <tr style=\"text-align: right;\">\n",
       "      <th></th>\n",
       "      <th>Sigla  da Empresa</th>\n",
       "      <th>Número do Voo</th>\n",
       "      <th>D I</th>\n",
       "      <th>Tipo de Linha</th>\n",
       "      <th>Aeroporto Origem</th>\n",
       "      <th>Aeroporto Destino</th>\n",
       "      <th>Partida Prevista</th>\n",
       "      <th>Partida Real</th>\n",
       "      <th>Chegada Prevista</th>\n",
       "      <th>Chegada Real</th>\n",
       "      <th>Situação</th>\n",
       "      <th>Justificativa</th>\n",
       "      <th>mês</th>\n",
       "    </tr>\n",
       "  </thead>\n",
       "  <tbody>\n",
       "    <tr>\n",
       "      <th>0</th>\n",
       "      <td>AAL</td>\n",
       "      <td>203</td>\n",
       "      <td>0</td>\n",
       "      <td>I</td>\n",
       "      <td>SBCT</td>\n",
       "      <td>SBPA</td>\n",
       "      <td>30/01/2016 08:58</td>\n",
       "      <td>30/01/2016 08:58</td>\n",
       "      <td>30/01/2016 10:35</td>\n",
       "      <td>30/01/2016 10:35</td>\n",
       "      <td>REALIZADO</td>\n",
       "      <td>NaN</td>\n",
       "      <td>janeiro</td>\n",
       "    </tr>\n",
       "    <tr>\n",
       "      <th>1</th>\n",
       "      <td>AAL</td>\n",
       "      <td>203</td>\n",
       "      <td>0</td>\n",
       "      <td>I</td>\n",
       "      <td>SBPA</td>\n",
       "      <td>KMIA</td>\n",
       "      <td>13/01/2016 12:13</td>\n",
       "      <td>13/01/2016 12:13</td>\n",
       "      <td>13/01/2016 21:30</td>\n",
       "      <td>13/01/2016 21:30</td>\n",
       "      <td>REALIZADO</td>\n",
       "      <td>NaN</td>\n",
       "      <td>janeiro</td>\n",
       "    </tr>\n",
       "    <tr>\n",
       "      <th>2</th>\n",
       "      <td>AAL</td>\n",
       "      <td>203</td>\n",
       "      <td>0</td>\n",
       "      <td>I</td>\n",
       "      <td>SBPA</td>\n",
       "      <td>KMIA</td>\n",
       "      <td>29/01/2016 12:13</td>\n",
       "      <td>29/01/2016 12:13</td>\n",
       "      <td>29/01/2016 21:30</td>\n",
       "      <td>29/01/2016 21:30</td>\n",
       "      <td>REALIZADO</td>\n",
       "      <td>NaN</td>\n",
       "      <td>janeiro</td>\n",
       "    </tr>\n",
       "    <tr>\n",
       "      <th>3</th>\n",
       "      <td>AAL</td>\n",
       "      <td>203</td>\n",
       "      <td>0</td>\n",
       "      <td>I</td>\n",
       "      <td>SBPA</td>\n",
       "      <td>KMIA</td>\n",
       "      <td>19/01/2016 12:13</td>\n",
       "      <td>18/01/2016 12:03</td>\n",
       "      <td>19/01/2016 21:30</td>\n",
       "      <td>18/01/2016 20:41</td>\n",
       "      <td>REALIZADO</td>\n",
       "      <td>AT</td>\n",
       "      <td>janeiro</td>\n",
       "    </tr>\n",
       "    <tr>\n",
       "      <th>4</th>\n",
       "      <td>AAL</td>\n",
       "      <td>203</td>\n",
       "      <td>0</td>\n",
       "      <td>I</td>\n",
       "      <td>SBPA</td>\n",
       "      <td>KMIA</td>\n",
       "      <td>30/01/2016 12:13</td>\n",
       "      <td>30/01/2016 12:13</td>\n",
       "      <td>30/01/2016 21:30</td>\n",
       "      <td>30/01/2016 21:30</td>\n",
       "      <td>REALIZADO</td>\n",
       "      <td>NaN</td>\n",
       "      <td>janeiro</td>\n",
       "    </tr>\n",
       "  </tbody>\n",
       "</table>\n",
       "</div>"
      ],
      "text/plain": [
       "  Sigla  da Empresa  Número do Voo D I Tipo de Linha Aeroporto Origem  \\\n",
       "0               AAL            203   0             I             SBCT   \n",
       "1               AAL            203   0             I             SBPA   \n",
       "2               AAL            203   0             I             SBPA   \n",
       "3               AAL            203   0             I             SBPA   \n",
       "4               AAL            203   0             I             SBPA   \n",
       "\n",
       "  Aeroporto Destino  Partida Prevista      Partida Real  Chegada Prevista  \\\n",
       "0              SBPA  30/01/2016 08:58  30/01/2016 08:58  30/01/2016 10:35   \n",
       "1              KMIA  13/01/2016 12:13  13/01/2016 12:13  13/01/2016 21:30   \n",
       "2              KMIA  29/01/2016 12:13  29/01/2016 12:13  29/01/2016 21:30   \n",
       "3              KMIA  19/01/2016 12:13  18/01/2016 12:03  19/01/2016 21:30   \n",
       "4              KMIA  30/01/2016 12:13  30/01/2016 12:13  30/01/2016 21:30   \n",
       "\n",
       "       Chegada Real   Situação Justificativa      mês  \n",
       "0  30/01/2016 10:35  REALIZADO           NaN  janeiro  \n",
       "1  13/01/2016 21:30  REALIZADO           NaN  janeiro  \n",
       "2  29/01/2016 21:30  REALIZADO           NaN  janeiro  \n",
       "3  18/01/2016 20:41  REALIZADO            AT  janeiro  \n",
       "4  30/01/2016 21:30  REALIZADO           NaN  janeiro  "
      ]
     },
     "execution_count": 24,
     "metadata": {},
     "output_type": "execute_result"
    }
   ],
   "source": [
    "dados2016.head()"
   ]
  },
  {
   "cell_type": "markdown",
   "metadata": {
    "id": "Yp0mMo3IghYk"
   },
   "source": [
    "*****DADOS DE 2017******"
   ]
  },
  {
   "cell_type": "code",
   "execution_count": 30,
   "metadata": {
    "id": "nVJDdohTiYlX"
   },
   "outputs": [],
   "source": [
    "caminho = 'DadosBrutos/2017/2017_{}.csv'\n",
    "lista.clear()"
   ]
  },
  {
   "cell_type": "code",
   "execution_count": 31,
   "metadata": {
    "id": "gPnhDCbUiYZH"
   },
   "outputs": [
    {
     "name": "stdout",
     "output_type": "stream",
     "text": [
      "1: (98798, 13)\n",
      "Index(['Sigla  da Empresa', 'Número do Voo', 'D I', 'Tipo de Linha',\n",
      "       'Aeroporto Origem', 'Aeroporto Destino', 'Partida Prevista',\n",
      "       'Partida Real', 'Chegada Prevista', 'Chegada Real', 'Situação',\n",
      "       'Justificativa', 'mês'],\n",
      "      dtype='object')\n",
      "janeiro\n",
      "2: (85000, 13)\n",
      "Index(['Sigla  da Empresa', 'Número do Voo', 'D I', 'Tipo de Linha',\n",
      "       'Aeroporto Origem', 'Aeroporto Destino', 'Partida Prevista',\n",
      "       'Partida Real', 'Chegada Prevista', 'Chegada Real', 'Situação',\n",
      "       'Justificativa', 'mês'],\n",
      "      dtype='object')\n",
      "fevereiro\n",
      "3: (91859, 13)\n",
      "Index(['Sigla  da Empresa', 'Número do Voo', 'D I', 'Tipo de Linha',\n",
      "       'Aeroporto Origem', 'Aeroporto Destino', 'Partida Prevista',\n",
      "       'Partida Real', 'Chegada Prevista', 'Chegada Real', 'Situação',\n",
      "       'Justificativa', 'mês'],\n",
      "      dtype='object')\n",
      "março\n",
      "4: (86204, 13)\n",
      "Index(['Sigla  da Empresa', 'Número do Voo', 'D I', 'Tipo de Linha',\n",
      "       'Aeroporto Origem', 'Aeroporto Destino', 'Partida Prevista',\n",
      "       'Partida Real', 'Chegada Prevista', 'Chegada Real', 'Situação',\n",
      "       'Justificativa', 'mês'],\n",
      "      dtype='object')\n",
      "abril\n",
      "5: (90677, 13)\n",
      "Index(['Sigla  da Empresa', 'Número do Voo', 'D I', 'Tipo de Linha',\n",
      "       'Aeroporto Origem', 'Aeroporto Destino', 'Partida Prevista',\n",
      "       'Partida Real', 'Chegada Prevista', 'Chegada Real', 'Situação',\n",
      "       'Justificativa', 'mês'],\n",
      "      dtype='object')\n",
      "maio\n",
      "6: (87872, 13)\n",
      "Index(['Sigla  da Empresa', 'Número do Voo', 'D I', 'Tipo de Linha',\n",
      "       'Aeroporto Origem', 'Aeroporto Destino', 'Partida Prevista',\n",
      "       'Partida Real', 'Chegada Prevista', 'Chegada Real', 'Situação',\n",
      "       'Justificativa', 'mês'],\n",
      "      dtype='object')\n",
      "junho\n",
      "7: (96910, 13)\n",
      "Index(['Sigla  da Empresa', 'Número do Voo', 'D I', 'Tipo de Linha',\n",
      "       'Aeroporto Origem', 'Aeroporto Destino', 'Partida Prevista',\n",
      "       'Partida Real', 'Chegada Prevista', 'Chegada Real', 'Situação',\n",
      "       'Justificativa', 'mês'],\n",
      "      dtype='object')\n",
      "julho\n",
      "8: (94185, 13)\n",
      "Index(['Sigla  da Empresa', 'Número do Voo', 'D I', 'Tipo de Linha',\n",
      "       'Aeroporto Origem', 'Aeroporto Destino', 'Partida Prevista',\n",
      "       'Partida Real', 'Chegada Prevista', 'Chegada Real', 'Situação',\n",
      "       'Justificativa', 'mês'],\n",
      "      dtype='object')\n",
      "agosto\n",
      "9: (89453, 13)\n",
      "Index(['Sigla  da Empresa', 'Número do Voo', 'D I', 'Tipo de Linha',\n",
      "       'Aeroporto Origem', 'Aeroporto Destino', 'Partida Prevista',\n",
      "       'Partida Real', 'Chegada Prevista', 'Chegada Real', 'Situação',\n",
      "       'Justificativa', 'mês'],\n",
      "      dtype='object')\n",
      "setembro\n",
      "10: (93546, 13)\n",
      "Index(['Sigla  da Empresa', 'Número do Voo', 'D I', 'Tipo de Linha',\n",
      "       'Aeroporto Origem', 'Aeroporto Destino', 'Partida Prevista',\n",
      "       'Partida Real', 'Chegada Prevista', 'Chegada Real', 'Situação',\n",
      "       'Justificativa', 'mês'],\n",
      "      dtype='object')\n",
      "outubro\n",
      "11: (91543, 13)\n",
      "Index(['Sigla  da Empresa', 'Número do Voo', 'D I', 'Tipo de Linha',\n",
      "       'Aeroporto Origem', 'Aeroporto Destino', 'Partida Prevista',\n",
      "       'Partida Real', 'Chegada Prevista', 'Chegada Real', 'Situação',\n",
      "       'Justificativa', 'mês'],\n",
      "      dtype='object')\n",
      "novembro\n",
      "12: (99437, 13)\n",
      "Index(['Sigla  da Empresa', 'Número do Voo', 'D I', 'Tipo de Linha',\n",
      "       'Aeroporto Origem', 'Aeroporto Destino', 'Partida Prevista',\n",
      "       'Partida Real', 'Chegada Prevista', 'Chegada Real', 'Situação',\n",
      "       'Justificativa', 'mês'],\n",
      "      dtype='object')\n",
      "dezembro\n"
     ]
    }
   ],
   "source": [
    "for i in range(1, 13):\n",
    "  if i == 9:\n",
    "    lista.append(pd.read_csv(caminho.format(i), sep = ',', encoding = 'ISO-8859-1', parse_dates = True, low_memory=False))\n",
    "  else:\n",
    "    lista.append(pd.read_csv(caminho.format(i), sep = ';', encoding = 'ISO-8859-1', parse_dates = True, low_memory=False))\n",
    "    if i == 12:\n",
    "        lista[i-1].drop(columns=['Data Prevista'], inplace=True, axis=1)\n",
    "\n",
    "  \n",
    "  lista[i-1].columns = ['Sigla  da Empresa', 'Número do Voo', 'D I', 'Tipo de Linha', 'Aeroporto Origem', 'Aeroporto Destino', 'Partida Prevista', 'Partida Real', 'Chegada Prevista', 'Chegada Real', 'Situação', 'Justificativa']\n",
    "  lista[i-1]['mês'] = meses[i-1]\n",
    "\n",
    "  \n",
    "  print(i, end=\": \")\n",
    "  print(lista[i-1].shape)\n",
    "  print(lista[i-1].columns)\n",
    "  print(meses[i-1])\n",
    "  "
   ]
  },
  {
   "cell_type": "code",
   "execution_count": 32,
   "metadata": {
    "id": "xu2Ek9GQiYWD"
   },
   "outputs": [],
   "source": [
    "dados2017 = pd.concat(lista, axis = 0)"
   ]
  },
  {
   "cell_type": "code",
   "execution_count": 33,
   "metadata": {
    "id": "BqCaakL2iYUL"
   },
   "outputs": [
    {
     "data": {
      "text/plain": [
       "(1105484, 13)"
      ]
     },
     "execution_count": 33,
     "metadata": {},
     "output_type": "execute_result"
    }
   ],
   "source": [
    "dados2017.shape"
   ]
  },
  {
   "cell_type": "code",
   "execution_count": 34,
   "metadata": {
    "id": "X5HyWzCnlQrT"
   },
   "outputs": [
    {
     "data": {
      "text/plain": [
       "Index(['Sigla  da Empresa', 'Número do Voo', 'D I', 'Tipo de Linha',\n",
       "       'Aeroporto Origem', 'Aeroporto Destino', 'Partida Prevista',\n",
       "       'Partida Real', 'Chegada Prevista', 'Chegada Real', 'Situação',\n",
       "       'Justificativa', 'mês'],\n",
       "      dtype='object')"
      ]
     },
     "execution_count": 34,
     "metadata": {},
     "output_type": "execute_result"
    }
   ],
   "source": [
    "dados2017.columns"
   ]
  },
  {
   "cell_type": "code",
   "execution_count": 35,
   "metadata": {
    "id": "VfMPcJuflQpD"
   },
   "outputs": [
    {
     "data": {
      "text/html": [
       "<div>\n",
       "<style scoped>\n",
       "    .dataframe tbody tr th:only-of-type {\n",
       "        vertical-align: middle;\n",
       "    }\n",
       "\n",
       "    .dataframe tbody tr th {\n",
       "        vertical-align: top;\n",
       "    }\n",
       "\n",
       "    .dataframe thead th {\n",
       "        text-align: right;\n",
       "    }\n",
       "</style>\n",
       "<table border=\"1\" class=\"dataframe\">\n",
       "  <thead>\n",
       "    <tr style=\"text-align: right;\">\n",
       "      <th></th>\n",
       "      <th>Sigla  da Empresa</th>\n",
       "      <th>Número do Voo</th>\n",
       "      <th>D I</th>\n",
       "      <th>Tipo de Linha</th>\n",
       "      <th>Aeroporto Origem</th>\n",
       "      <th>Aeroporto Destino</th>\n",
       "      <th>Partida Prevista</th>\n",
       "      <th>Partida Real</th>\n",
       "      <th>Chegada Prevista</th>\n",
       "      <th>Chegada Real</th>\n",
       "      <th>Situação</th>\n",
       "      <th>Justificativa</th>\n",
       "      <th>mês</th>\n",
       "    </tr>\n",
       "  </thead>\n",
       "  <tbody>\n",
       "    <tr>\n",
       "      <th>0</th>\n",
       "      <td>AAL</td>\n",
       "      <td>213</td>\n",
       "      <td>0</td>\n",
       "      <td>I</td>\n",
       "      <td>KMIA</td>\n",
       "      <td>SBBR</td>\n",
       "      <td>02/01/2017 01:20</td>\n",
       "      <td>02/01/2017 01:20</td>\n",
       "      <td>02/01/2017 09:00</td>\n",
       "      <td>02/01/2017 09:00</td>\n",
       "      <td>REALIZADO</td>\n",
       "      <td>NaN</td>\n",
       "      <td>janeiro</td>\n",
       "    </tr>\n",
       "    <tr>\n",
       "      <th>1</th>\n",
       "      <td>AAL</td>\n",
       "      <td>213</td>\n",
       "      <td>0</td>\n",
       "      <td>I</td>\n",
       "      <td>KMIA</td>\n",
       "      <td>SBBR</td>\n",
       "      <td>24/01/2017 01:20</td>\n",
       "      <td>24/01/2017 01:20</td>\n",
       "      <td>24/01/2017 09:00</td>\n",
       "      <td>24/01/2017 09:00</td>\n",
       "      <td>REALIZADO</td>\n",
       "      <td>NaN</td>\n",
       "      <td>janeiro</td>\n",
       "    </tr>\n",
       "    <tr>\n",
       "      <th>2</th>\n",
       "      <td>AAL</td>\n",
       "      <td>213</td>\n",
       "      <td>0</td>\n",
       "      <td>I</td>\n",
       "      <td>KMIA</td>\n",
       "      <td>SBBR</td>\n",
       "      <td>29/01/2017 01:20</td>\n",
       "      <td>29/01/2017 01:20</td>\n",
       "      <td>29/01/2017 09:00</td>\n",
       "      <td>29/01/2017 09:00</td>\n",
       "      <td>REALIZADO</td>\n",
       "      <td>NaN</td>\n",
       "      <td>janeiro</td>\n",
       "    </tr>\n",
       "    <tr>\n",
       "      <th>3</th>\n",
       "      <td>AAL</td>\n",
       "      <td>213</td>\n",
       "      <td>0</td>\n",
       "      <td>I</td>\n",
       "      <td>KMIA</td>\n",
       "      <td>SBBR</td>\n",
       "      <td>23/01/2017 01:20</td>\n",
       "      <td>23/01/2017 01:20</td>\n",
       "      <td>23/01/2017 09:00</td>\n",
       "      <td>23/01/2017 09:00</td>\n",
       "      <td>REALIZADO</td>\n",
       "      <td>NaN</td>\n",
       "      <td>janeiro</td>\n",
       "    </tr>\n",
       "    <tr>\n",
       "      <th>4</th>\n",
       "      <td>AAL</td>\n",
       "      <td>213</td>\n",
       "      <td>0</td>\n",
       "      <td>I</td>\n",
       "      <td>KMIA</td>\n",
       "      <td>SBBR</td>\n",
       "      <td>25/01/2017 01:20</td>\n",
       "      <td>25/01/2017 01:20</td>\n",
       "      <td>25/01/2017 09:00</td>\n",
       "      <td>25/01/2017 09:00</td>\n",
       "      <td>REALIZADO</td>\n",
       "      <td>NaN</td>\n",
       "      <td>janeiro</td>\n",
       "    </tr>\n",
       "  </tbody>\n",
       "</table>\n",
       "</div>"
      ],
      "text/plain": [
       "  Sigla  da Empresa  Número do Voo D I Tipo de Linha Aeroporto Origem  \\\n",
       "0               AAL            213   0             I             KMIA   \n",
       "1               AAL            213   0             I             KMIA   \n",
       "2               AAL            213   0             I             KMIA   \n",
       "3               AAL            213   0             I             KMIA   \n",
       "4               AAL            213   0             I             KMIA   \n",
       "\n",
       "  Aeroporto Destino  Partida Prevista      Partida Real  Chegada Prevista  \\\n",
       "0              SBBR  02/01/2017 01:20  02/01/2017 01:20  02/01/2017 09:00   \n",
       "1              SBBR  24/01/2017 01:20  24/01/2017 01:20  24/01/2017 09:00   \n",
       "2              SBBR  29/01/2017 01:20  29/01/2017 01:20  29/01/2017 09:00   \n",
       "3              SBBR  23/01/2017 01:20  23/01/2017 01:20  23/01/2017 09:00   \n",
       "4              SBBR  25/01/2017 01:20  25/01/2017 01:20  25/01/2017 09:00   \n",
       "\n",
       "       Chegada Real   Situação Justificativa      mês  \n",
       "0  02/01/2017 09:00  REALIZADO           NaN  janeiro  \n",
       "1  24/01/2017 09:00  REALIZADO           NaN  janeiro  \n",
       "2  29/01/2017 09:00  REALIZADO           NaN  janeiro  \n",
       "3  23/01/2017 09:00  REALIZADO           NaN  janeiro  \n",
       "4  25/01/2017 09:00  REALIZADO           NaN  janeiro  "
      ]
     },
     "execution_count": 35,
     "metadata": {},
     "output_type": "execute_result"
    }
   ],
   "source": [
    "dados2017.head()"
   ]
  },
  {
   "cell_type": "code",
   "execution_count": 36,
   "metadata": {
    "id": "3KoVqGh7lQmh"
   },
   "outputs": [
    {
     "name": "stdout",
     "output_type": "stream",
     "text": [
      "2017/2017_1.csv\n",
      "2017/2017_2.csv\n",
      "2017/2017_3.csv\n",
      "2017/2017_4.csv\n",
      "2017/2017_5.csv\n",
      "2017/2017_6.csv\n",
      "2017/2017_7.csv\n",
      "2017/2017_8.csv\n",
      "2017/2017_9.csv\n",
      "2017/2017_10.csv\n",
      "2017/2017_11.csv\n",
      "2017/2017_12.csv\n"
     ]
    }
   ],
   "source": [
    "#Criar pasta para salvar os arquivos de 2017\n",
    "os.mkdir('./2017')\n",
    "\n",
    "#Exportar dados de 2017 em arquivos .CSV mensais com a mesma formatação\n",
    "\n",
    "nome = \"2017/2017_{}.csv\"\n",
    "aux = 1\n",
    "for i in lista:\n",
    "    i.to_csv(nome.format(aux), index = False)\n",
    "    print(nome.format(aux))\n",
    "    aux += 1"
   ]
  },
  {
   "cell_type": "markdown",
   "metadata": {
    "id": "t_9BAGVOiYRR"
   },
   "source": [
    "*****DADOS DE 2018*****"
   ]
  },
  {
   "cell_type": "code",
   "execution_count": 37,
   "metadata": {
    "id": "JwXPwgqIbHbe"
   },
   "outputs": [],
   "source": [
    "caminho = 'DadosBrutos/2018/2018_{}.csv'\n",
    "lista.clear()"
   ]
  },
  {
   "cell_type": "code",
   "execution_count": 38,
   "metadata": {
    "id": "l5e0XFuFbHZ_"
   },
   "outputs": [
    {
     "name": "stdout",
     "output_type": "stream",
     "text": [
      "1: (103497, 13)\n",
      "Index(['Sigla  da Empresa', 'Número do Voo', 'D I', 'Tipo de Linha',\n",
      "       'Aeroporto Origem', 'Aeroporto Destino', 'Partida Prevista',\n",
      "       'Partida Real', 'Chegada Prevista', 'Chegada Real', 'Situação',\n",
      "       'Justificativa', 'mês'],\n",
      "      dtype='object')\n",
      "janeiro\n",
      "2: (89610, 13)\n",
      "Index(['Sigla  da Empresa', 'Número do Voo', 'D I', 'Tipo de Linha',\n",
      "       'Aeroporto Origem', 'Aeroporto Destino', 'Partida Prevista',\n",
      "       'Partida Real', 'Chegada Prevista', 'Chegada Real', 'Situação',\n",
      "       'Justificativa', 'mês'],\n",
      "      dtype='object')\n",
      "fevereiro\n",
      "3: (90789, 13)\n",
      "Index(['Sigla  da Empresa', 'Número do Voo', 'D I', 'Tipo de Linha',\n",
      "       'Aeroporto Origem', 'Aeroporto Destino', 'Partida Prevista',\n",
      "       'Partida Real', 'Chegada Prevista', 'Chegada Real', 'Situação',\n",
      "       'Justificativa', 'mês'],\n",
      "      dtype='object')\n",
      "março\n",
      "4: (79781, 13)\n",
      "Index(['Sigla  da Empresa', 'Número do Voo', 'D I', 'Tipo de Linha',\n",
      "       'Aeroporto Origem', 'Aeroporto Destino', 'Partida Prevista',\n",
      "       'Partida Real', 'Chegada Prevista', 'Chegada Real', 'Situação',\n",
      "       'Justificativa', 'mês'],\n",
      "      dtype='object')\n",
      "abril\n",
      "5: (83754, 13)\n",
      "Index(['Sigla  da Empresa', 'Número do Voo', 'D I', 'Tipo de Linha',\n",
      "       'Aeroporto Origem', 'Aeroporto Destino', 'Partida Prevista',\n",
      "       'Partida Real', 'Chegada Prevista', 'Chegada Real', 'Situação',\n",
      "       'Justificativa', 'mês'],\n",
      "      dtype='object')\n",
      "maio\n",
      "6: (80302, 13)\n",
      "Index(['Sigla  da Empresa', 'Número do Voo', 'D I', 'Tipo de Linha',\n",
      "       'Aeroporto Origem', 'Aeroporto Destino', 'Partida Prevista',\n",
      "       'Partida Real', 'Chegada Prevista', 'Chegada Real', 'Situação',\n",
      "       'Justificativa', 'mês'],\n",
      "      dtype='object')\n",
      "junho\n",
      "7: (90216, 13)\n",
      "Index(['Sigla  da Empresa', 'Número do Voo', 'D I', 'Tipo de Linha',\n",
      "       'Aeroporto Origem', 'Aeroporto Destino', 'Partida Prevista',\n",
      "       'Partida Real', 'Chegada Prevista', 'Chegada Real', 'Situação',\n",
      "       'Justificativa', 'mês'],\n",
      "      dtype='object')\n",
      "julho\n",
      "8: (84388, 13)\n",
      "Index(['Sigla  da Empresa', 'Número do Voo', 'D I', 'Tipo de Linha',\n",
      "       'Aeroporto Origem', 'Aeroporto Destino', 'Partida Prevista',\n",
      "       'Partida Real', 'Chegada Prevista', 'Chegada Real', 'Situação',\n",
      "       'Justificativa', 'mês'],\n",
      "      dtype='object')\n",
      "agosto\n",
      "9: (80919, 13)\n",
      "Index(['Sigla  da Empresa', 'Número do Voo', 'D I', 'Tipo de Linha',\n",
      "       'Aeroporto Origem', 'Aeroporto Destino', 'Partida Prevista',\n",
      "       'Partida Real', 'Chegada Prevista', 'Chegada Real', 'Situação',\n",
      "       'Justificativa', 'mês'],\n",
      "      dtype='object')\n",
      "setembro\n",
      "10: (83647, 13)\n",
      "Index(['Sigla  da Empresa', 'Número do Voo', 'D I', 'Tipo de Linha',\n",
      "       'Aeroporto Origem', 'Aeroporto Destino', 'Partida Prevista',\n",
      "       'Partida Real', 'Chegada Prevista', 'Chegada Real', 'Situação',\n",
      "       'Justificativa', 'mês'],\n",
      "      dtype='object')\n",
      "outubro\n",
      "11: (80025, 13)\n",
      "Index(['Sigla  da Empresa', 'Número do Voo', 'D I', 'Tipo de Linha',\n",
      "       'Aeroporto Origem', 'Aeroporto Destino', 'Partida Prevista',\n",
      "       'Partida Real', 'Chegada Prevista', 'Chegada Real', 'Situação',\n",
      "       'Justificativa', 'mês'],\n",
      "      dtype='object')\n",
      "novembro\n",
      "12: (87628, 13)\n",
      "Index(['Sigla  da Empresa', 'Número do Voo', 'D I', 'Tipo de Linha',\n",
      "       'Aeroporto Origem', 'Aeroporto Destino', 'Partida Prevista',\n",
      "       'Partida Real', 'Chegada Prevista', 'Chegada Real', 'Situação',\n",
      "       'Justificativa', 'mês'],\n",
      "      dtype='object')\n",
      "dezembro\n"
     ]
    }
   ],
   "source": [
    "for i in range(1, 13):\n",
    "\n",
    "  lista.append(pd.read_csv(caminho.format(i), sep = ';', encoding = 'ISO-8859-1', parse_dates = True, low_memory=False))\n",
    "  lista[i-1].columns = ['Sigla  da Empresa', 'Número do Voo', 'D I', 'Tipo de Linha', 'Aeroporto Origem', 'Aeroporto Destino', 'Partida Prevista', 'Partida Real', 'Chegada Prevista', 'Chegada Real', 'Situação', 'Justificativa']\n",
    "  lista[i-1]['mês'] = meses[i-1]\n",
    "\n",
    "\n",
    "  print(i, end=\": \")\n",
    "  print(lista[i-1].shape)\n",
    "  print(lista[i-1].columns)\n",
    "  print(meses[i-1])\n",
    "\n"
   ]
  },
  {
   "cell_type": "code",
   "execution_count": 39,
   "metadata": {
    "id": "J33buTuVbHX-"
   },
   "outputs": [],
   "source": [
    "dados2018 = pd.concat(lista, axis = 0)"
   ]
  },
  {
   "cell_type": "code",
   "execution_count": 40,
   "metadata": {
    "id": "u8QGi8lVbHWR"
   },
   "outputs": [
    {
     "data": {
      "text/plain": [
       "(1034556, 13)"
      ]
     },
     "execution_count": 40,
     "metadata": {},
     "output_type": "execute_result"
    }
   ],
   "source": [
    "dados2018.shape"
   ]
  },
  {
   "cell_type": "code",
   "execution_count": 41,
   "metadata": {
    "id": "jQdg_rmTbHTx"
   },
   "outputs": [
    {
     "data": {
      "text/plain": [
       "Index(['Sigla  da Empresa', 'Número do Voo', 'D I', 'Tipo de Linha',\n",
       "       'Aeroporto Origem', 'Aeroporto Destino', 'Partida Prevista',\n",
       "       'Partida Real', 'Chegada Prevista', 'Chegada Real', 'Situação',\n",
       "       'Justificativa', 'mês'],\n",
       "      dtype='object')"
      ]
     },
     "execution_count": 41,
     "metadata": {},
     "output_type": "execute_result"
    }
   ],
   "source": [
    "dados2018.columns"
   ]
  },
  {
   "cell_type": "code",
   "execution_count": 42,
   "metadata": {
    "id": "1nuEm7Q2bHQR"
   },
   "outputs": [
    {
     "data": {
      "text/html": [
       "<div>\n",
       "<style scoped>\n",
       "    .dataframe tbody tr th:only-of-type {\n",
       "        vertical-align: middle;\n",
       "    }\n",
       "\n",
       "    .dataframe tbody tr th {\n",
       "        vertical-align: top;\n",
       "    }\n",
       "\n",
       "    .dataframe thead th {\n",
       "        text-align: right;\n",
       "    }\n",
       "</style>\n",
       "<table border=\"1\" class=\"dataframe\">\n",
       "  <thead>\n",
       "    <tr style=\"text-align: right;\">\n",
       "      <th></th>\n",
       "      <th>Sigla  da Empresa</th>\n",
       "      <th>Número do Voo</th>\n",
       "      <th>D I</th>\n",
       "      <th>Tipo de Linha</th>\n",
       "      <th>Aeroporto Origem</th>\n",
       "      <th>Aeroporto Destino</th>\n",
       "      <th>Partida Prevista</th>\n",
       "      <th>Partida Real</th>\n",
       "      <th>Chegada Prevista</th>\n",
       "      <th>Chegada Real</th>\n",
       "      <th>Situação</th>\n",
       "      <th>Justificativa</th>\n",
       "      <th>mês</th>\n",
       "    </tr>\n",
       "  </thead>\n",
       "  <tbody>\n",
       "    <tr>\n",
       "      <th>0</th>\n",
       "      <td>AAL</td>\n",
       "      <td>1265</td>\n",
       "      <td>0</td>\n",
       "      <td>I</td>\n",
       "      <td>KMIA</td>\n",
       "      <td>SBEG</td>\n",
       "      <td>01/01/2018 20:30</td>\n",
       "      <td>01/01/2018 20:30</td>\n",
       "      <td>02/01/2018 01:53</td>\n",
       "      <td>02/01/2018 01:53</td>\n",
       "      <td>REALIZADO</td>\n",
       "      <td>NaN</td>\n",
       "      <td>janeiro</td>\n",
       "    </tr>\n",
       "    <tr>\n",
       "      <th>1</th>\n",
       "      <td>AAL</td>\n",
       "      <td>1265</td>\n",
       "      <td>0</td>\n",
       "      <td>I</td>\n",
       "      <td>KMIA</td>\n",
       "      <td>SBEG</td>\n",
       "      <td>02/01/2018 20:30</td>\n",
       "      <td>02/01/2018 20:30</td>\n",
       "      <td>03/01/2018 01:53</td>\n",
       "      <td>03/01/2018 01:53</td>\n",
       "      <td>REALIZADO</td>\n",
       "      <td>NaN</td>\n",
       "      <td>janeiro</td>\n",
       "    </tr>\n",
       "    <tr>\n",
       "      <th>2</th>\n",
       "      <td>AAL</td>\n",
       "      <td>1265</td>\n",
       "      <td>0</td>\n",
       "      <td>I</td>\n",
       "      <td>KMIA</td>\n",
       "      <td>SBEG</td>\n",
       "      <td>03/01/2018 20:30</td>\n",
       "      <td>03/01/2018 20:30</td>\n",
       "      <td>04/01/2018 01:53</td>\n",
       "      <td>04/01/2018 01:53</td>\n",
       "      <td>REALIZADO</td>\n",
       "      <td>NaN</td>\n",
       "      <td>janeiro</td>\n",
       "    </tr>\n",
       "    <tr>\n",
       "      <th>3</th>\n",
       "      <td>AAL</td>\n",
       "      <td>1265</td>\n",
       "      <td>0</td>\n",
       "      <td>I</td>\n",
       "      <td>KMIA</td>\n",
       "      <td>SBEG</td>\n",
       "      <td>04/01/2018 20:30</td>\n",
       "      <td>04/01/2018 20:30</td>\n",
       "      <td>05/01/2018 01:53</td>\n",
       "      <td>05/01/2018 01:53</td>\n",
       "      <td>REALIZADO</td>\n",
       "      <td>NaN</td>\n",
       "      <td>janeiro</td>\n",
       "    </tr>\n",
       "    <tr>\n",
       "      <th>4</th>\n",
       "      <td>AAL</td>\n",
       "      <td>1265</td>\n",
       "      <td>0</td>\n",
       "      <td>I</td>\n",
       "      <td>KMIA</td>\n",
       "      <td>SBEG</td>\n",
       "      <td>05/01/2018 20:30</td>\n",
       "      <td>05/01/2018 20:30</td>\n",
       "      <td>06/01/2018 01:53</td>\n",
       "      <td>06/01/2018 01:53</td>\n",
       "      <td>REALIZADO</td>\n",
       "      <td>NaN</td>\n",
       "      <td>janeiro</td>\n",
       "    </tr>\n",
       "  </tbody>\n",
       "</table>\n",
       "</div>"
      ],
      "text/plain": [
       "  Sigla  da Empresa Número do Voo D I Tipo de Linha Aeroporto Origem  \\\n",
       "0               AAL          1265   0             I             KMIA   \n",
       "1               AAL          1265   0             I             KMIA   \n",
       "2               AAL          1265   0             I             KMIA   \n",
       "3               AAL          1265   0             I             KMIA   \n",
       "4               AAL          1265   0             I             KMIA   \n",
       "\n",
       "  Aeroporto Destino  Partida Prevista      Partida Real  Chegada Prevista  \\\n",
       "0              SBEG  01/01/2018 20:30  01/01/2018 20:30  02/01/2018 01:53   \n",
       "1              SBEG  02/01/2018 20:30  02/01/2018 20:30  03/01/2018 01:53   \n",
       "2              SBEG  03/01/2018 20:30  03/01/2018 20:30  04/01/2018 01:53   \n",
       "3              SBEG  04/01/2018 20:30  04/01/2018 20:30  05/01/2018 01:53   \n",
       "4              SBEG  05/01/2018 20:30  05/01/2018 20:30  06/01/2018 01:53   \n",
       "\n",
       "       Chegada Real   Situação Justificativa      mês  \n",
       "0  02/01/2018 01:53  REALIZADO           NaN  janeiro  \n",
       "1  03/01/2018 01:53  REALIZADO           NaN  janeiro  \n",
       "2  04/01/2018 01:53  REALIZADO           NaN  janeiro  \n",
       "3  05/01/2018 01:53  REALIZADO           NaN  janeiro  \n",
       "4  06/01/2018 01:53  REALIZADO           NaN  janeiro  "
      ]
     },
     "execution_count": 42,
     "metadata": {},
     "output_type": "execute_result"
    }
   ],
   "source": [
    "dados2018.head()"
   ]
  },
  {
   "cell_type": "code",
   "execution_count": 43,
   "metadata": {
    "id": "3GYc2rMNcQL2"
   },
   "outputs": [
    {
     "name": "stdout",
     "output_type": "stream",
     "text": [
      "2018/2018_1.csv\n",
      "2018/2018_2.csv\n",
      "2018/2018_3.csv\n",
      "2018/2018_4.csv\n",
      "2018/2018_5.csv\n",
      "2018/2018_6.csv\n",
      "2018/2018_7.csv\n",
      "2018/2018_8.csv\n",
      "2018/2018_9.csv\n",
      "2018/2018_10.csv\n",
      "2018/2018_11.csv\n",
      "2018/2018_12.csv\n"
     ]
    }
   ],
   "source": [
    "#Criar pasta para salvar os arquivos de 2018\n",
    "os.mkdir('./2018')\n",
    "\n",
    "#Exportar dados de 2018 em arquivos .CSV mensais com a mesma formatação\n",
    "\n",
    "nome = \"2018/2018_{}.csv\"\n",
    "aux = 1\n",
    "for i in lista:\n",
    "    i.to_csv(nome.format(aux), index = False)\n",
    "    print(nome.format(aux))\n",
    "    aux += 1"
   ]
  },
  {
   "cell_type": "markdown",
   "metadata": {
    "id": "uglLJkWzcQJv"
   },
   "source": [
    "*****DADOS DE 2019*****"
   ]
  },
  {
   "cell_type": "code",
   "execution_count": 44,
   "metadata": {
    "id": "uMQWr_trcQID"
   },
   "outputs": [],
   "source": [
    "caminho = 'DadosBrutos/2019/2019_{}.csv'\n",
    "lista.clear()"
   ]
  },
  {
   "cell_type": "code",
   "execution_count": 45,
   "metadata": {
    "id": "OoePCuJ8cQF4"
   },
   "outputs": [
    {
     "name": "stdout",
     "output_type": "stream",
     "text": [
      "1: (91817, 13)\n",
      "Index(['Sigla  da Empresa', 'Número do Voo', 'D I', 'Tipo de Linha',\n",
      "       'Aeroporto Origem', 'Aeroporto Destino', 'Partida Prevista',\n",
      "       'Partida Real', 'Chegada Prevista', 'Chegada Real', 'Situação',\n",
      "       'Justificativa', 'mês'],\n",
      "      dtype='object')\n",
      "janeiro\n",
      "2: (79526, 13)\n",
      "Index(['Sigla  da Empresa', 'Número do Voo', 'D I', 'Tipo de Linha',\n",
      "       'Aeroporto Origem', 'Aeroporto Destino', 'Partida Prevista',\n",
      "       'Partida Real', 'Chegada Prevista', 'Chegada Real', 'Situação',\n",
      "       'Justificativa', 'mês'],\n",
      "      dtype='object')\n",
      "fevereiro\n",
      "3: (83062, 13)\n",
      "Index(['Sigla  da Empresa', 'Número do Voo', 'D I', 'Tipo de Linha',\n",
      "       'Aeroporto Origem', 'Aeroporto Destino', 'Partida Prevista',\n",
      "       'Partida Real', 'Chegada Prevista', 'Chegada Real', 'Situação',\n",
      "       'Justificativa', 'mês'],\n",
      "      dtype='object')\n",
      "março\n",
      "4: (77444, 13)\n",
      "Index(['Sigla  da Empresa', 'Número do Voo', 'D I', 'Tipo de Linha',\n",
      "       'Aeroporto Origem', 'Aeroporto Destino', 'Partida Prevista',\n",
      "       'Partida Real', 'Chegada Prevista', 'Chegada Real', 'Situação',\n",
      "       'Justificativa', 'mês'],\n",
      "      dtype='object')\n",
      "abril\n",
      "5: (76701, 13)\n",
      "Index(['Sigla  da Empresa', 'Número do Voo', 'D I', 'Tipo de Linha',\n",
      "       'Aeroporto Origem', 'Aeroporto Destino', 'Partida Prevista',\n",
      "       'Partida Real', 'Chegada Prevista', 'Chegada Real', 'Situação',\n",
      "       'Justificativa', 'mês'],\n",
      "      dtype='object')\n",
      "maio\n",
      "6: (74189, 13)\n",
      "Index(['Sigla  da Empresa', 'Número do Voo', 'D I', 'Tipo de Linha',\n",
      "       'Aeroporto Origem', 'Aeroporto Destino', 'Partida Prevista',\n",
      "       'Partida Real', 'Chegada Prevista', 'Chegada Real', 'Situação',\n",
      "       'Justificativa', 'mês'],\n",
      "      dtype='object')\n",
      "junho\n",
      "7: (85672, 13)\n",
      "Index(['Sigla  da Empresa', 'Número do Voo', 'D I', 'Tipo de Linha',\n",
      "       'Aeroporto Origem', 'Aeroporto Destino', 'Partida Prevista',\n",
      "       'Partida Real', 'Chegada Prevista', 'Chegada Real', 'Situação',\n",
      "       'Justificativa', 'mês'],\n",
      "      dtype='object')\n",
      "julho\n",
      "8: (80589, 13)\n",
      "Index(['Sigla  da Empresa', 'Número do Voo', 'D I', 'Tipo de Linha',\n",
      "       'Aeroporto Origem', 'Aeroporto Destino', 'Partida Prevista',\n",
      "       'Partida Real', 'Chegada Prevista', 'Chegada Real', 'Situação',\n",
      "       'Justificativa', 'mês'],\n",
      "      dtype='object')\n",
      "agosto\n",
      "9: (80537, 13)\n",
      "Index(['Sigla  da Empresa', 'Número do Voo', 'D I', 'Tipo de Linha',\n",
      "       'Aeroporto Origem', 'Aeroporto Destino', 'Partida Prevista',\n",
      "       'Partida Real', 'Chegada Prevista', 'Chegada Real', 'Situação',\n",
      "       'Justificativa', 'mês'],\n",
      "      dtype='object')\n",
      "setembro\n",
      "10: (84239, 13)\n",
      "Index(['Sigla  da Empresa', 'Número do Voo', 'D I', 'Tipo de Linha',\n",
      "       'Aeroporto Origem', 'Aeroporto Destino', 'Partida Prevista',\n",
      "       'Partida Real', 'Chegada Prevista', 'Chegada Real', 'Situação',\n",
      "       'Justificativa', 'mês'],\n",
      "      dtype='object')\n",
      "outubro\n",
      "11: (80998, 13)\n",
      "Index(['Sigla  da Empresa', 'Número do Voo', 'D I', 'Tipo de Linha',\n",
      "       'Aeroporto Origem', 'Aeroporto Destino', 'Partida Prevista',\n",
      "       'Partida Real', 'Chegada Prevista', 'Chegada Real', 'Situação',\n",
      "       'Justificativa', 'mês'],\n",
      "      dtype='object')\n",
      "novembro\n",
      "12: (88217, 13)\n",
      "Index(['Sigla  da Empresa', 'Número do Voo', 'D I', 'Tipo de Linha',\n",
      "       'Aeroporto Origem', 'Aeroporto Destino', 'Partida Prevista',\n",
      "       'Partida Real', 'Chegada Prevista', 'Chegada Real', 'Situação',\n",
      "       'Justificativa', 'mês'],\n",
      "      dtype='object')\n",
      "dezembro\n"
     ]
    }
   ],
   "source": [
    "for i in range(1, 13):\n",
    "  if i == 7:\n",
    "    lista.append(pd.read_csv(caminho.format(i), sep = '\\t', encoding = 'ISO-8859-1', parse_dates = True, low_memory=False))\n",
    "  else:\n",
    "    lista.append(pd.read_csv(caminho.format(i), sep = ';', encoding = 'ISO-8859-1', parse_dates = True, low_memory=False))\n",
    "  lista[i-1].columns = ['Sigla  da Empresa', 'Número do Voo', 'D I', 'Tipo de Linha', 'Aeroporto Origem', 'Aeroporto Destino', 'Partida Prevista', 'Partida Real', 'Chegada Prevista', 'Chegada Real', 'Situação', 'Justificativa']\n",
    "  lista[i-1]['mês'] = meses[i-1]\n",
    "\n",
    "\n",
    "  print(i, end=\": \")\n",
    "  print(lista[i-1].shape)\n",
    "  print(lista[i-1].columns)\n",
    "  print(meses[i-1])\n"
   ]
  },
  {
   "cell_type": "code",
   "execution_count": 46,
   "metadata": {
    "id": "sAlFFsyqcQEJ"
   },
   "outputs": [],
   "source": [
    "dados2019 = pd.concat(lista, axis = 0)"
   ]
  },
  {
   "cell_type": "code",
   "execution_count": 47,
   "metadata": {
    "id": "n7aye2p0cQB3"
   },
   "outputs": [
    {
     "data": {
      "text/plain": [
       "(982991, 13)"
      ]
     },
     "execution_count": 47,
     "metadata": {},
     "output_type": "execute_result"
    }
   ],
   "source": [
    "dados2019.shape"
   ]
  },
  {
   "cell_type": "code",
   "execution_count": 48,
   "metadata": {
    "id": "kqmT4z1KcP-u"
   },
   "outputs": [
    {
     "data": {
      "text/plain": [
       "Index(['Sigla  da Empresa', 'Número do Voo', 'D I', 'Tipo de Linha',\n",
       "       'Aeroporto Origem', 'Aeroporto Destino', 'Partida Prevista',\n",
       "       'Partida Real', 'Chegada Prevista', 'Chegada Real', 'Situação',\n",
       "       'Justificativa', 'mês'],\n",
       "      dtype='object')"
      ]
     },
     "execution_count": 48,
     "metadata": {},
     "output_type": "execute_result"
    }
   ],
   "source": [
    "dados2019.columns"
   ]
  },
  {
   "cell_type": "code",
   "execution_count": 49,
   "metadata": {
    "id": "xupNGQDrd_ue"
   },
   "outputs": [
    {
     "data": {
      "text/html": [
       "<div>\n",
       "<style scoped>\n",
       "    .dataframe tbody tr th:only-of-type {\n",
       "        vertical-align: middle;\n",
       "    }\n",
       "\n",
       "    .dataframe tbody tr th {\n",
       "        vertical-align: top;\n",
       "    }\n",
       "\n",
       "    .dataframe thead th {\n",
       "        text-align: right;\n",
       "    }\n",
       "</style>\n",
       "<table border=\"1\" class=\"dataframe\">\n",
       "  <thead>\n",
       "    <tr style=\"text-align: right;\">\n",
       "      <th></th>\n",
       "      <th>Sigla  da Empresa</th>\n",
       "      <th>Número do Voo</th>\n",
       "      <th>D I</th>\n",
       "      <th>Tipo de Linha</th>\n",
       "      <th>Aeroporto Origem</th>\n",
       "      <th>Aeroporto Destino</th>\n",
       "      <th>Partida Prevista</th>\n",
       "      <th>Partida Real</th>\n",
       "      <th>Chegada Prevista</th>\n",
       "      <th>Chegada Real</th>\n",
       "      <th>Situação</th>\n",
       "      <th>Justificativa</th>\n",
       "      <th>mês</th>\n",
       "    </tr>\n",
       "  </thead>\n",
       "  <tbody>\n",
       "    <tr>\n",
       "      <th>0</th>\n",
       "      <td>AAF</td>\n",
       "      <td>35</td>\n",
       "      <td>0</td>\n",
       "      <td>I</td>\n",
       "      <td>LFPO</td>\n",
       "      <td>SBKP</td>\n",
       "      <td>25/01/2019 06:15</td>\n",
       "      <td>25/01/2019 06:15</td>\n",
       "      <td>25/01/2019 18:15</td>\n",
       "      <td>25/01/2019 18:15</td>\n",
       "      <td>REALIZADO</td>\n",
       "      <td>NaN</td>\n",
       "      <td>janeiro</td>\n",
       "    </tr>\n",
       "    <tr>\n",
       "      <th>1</th>\n",
       "      <td>AAF</td>\n",
       "      <td>35</td>\n",
       "      <td>0</td>\n",
       "      <td>I</td>\n",
       "      <td>LFPO</td>\n",
       "      <td>SBKP</td>\n",
       "      <td>27/01/2019 06:15</td>\n",
       "      <td>27/01/2019 06:15</td>\n",
       "      <td>27/01/2019 18:15</td>\n",
       "      <td>27/01/2019 18:15</td>\n",
       "      <td>REALIZADO</td>\n",
       "      <td>NaN</td>\n",
       "      <td>janeiro</td>\n",
       "    </tr>\n",
       "    <tr>\n",
       "      <th>2</th>\n",
       "      <td>AAF</td>\n",
       "      <td>35</td>\n",
       "      <td>0</td>\n",
       "      <td>I</td>\n",
       "      <td>LFPO</td>\n",
       "      <td>SBKP</td>\n",
       "      <td>29/01/2019 06:15</td>\n",
       "      <td>29/01/2019 06:15</td>\n",
       "      <td>29/01/2019 18:15</td>\n",
       "      <td>29/01/2019 18:15</td>\n",
       "      <td>REALIZADO</td>\n",
       "      <td>NaN</td>\n",
       "      <td>janeiro</td>\n",
       "    </tr>\n",
       "    <tr>\n",
       "      <th>3</th>\n",
       "      <td>AAF</td>\n",
       "      <td>36</td>\n",
       "      <td>0</td>\n",
       "      <td>I</td>\n",
       "      <td>SBKP</td>\n",
       "      <td>LFPO</td>\n",
       "      <td>25/01/2019 20:15</td>\n",
       "      <td>25/01/2019 20:15</td>\n",
       "      <td>26/01/2019 07:45</td>\n",
       "      <td>26/01/2019 07:45</td>\n",
       "      <td>REALIZADO</td>\n",
       "      <td>NaN</td>\n",
       "      <td>janeiro</td>\n",
       "    </tr>\n",
       "    <tr>\n",
       "      <th>4</th>\n",
       "      <td>AAF</td>\n",
       "      <td>36</td>\n",
       "      <td>0</td>\n",
       "      <td>I</td>\n",
       "      <td>SBKP</td>\n",
       "      <td>LFPO</td>\n",
       "      <td>27/01/2019 20:15</td>\n",
       "      <td>27/01/2019 20:15</td>\n",
       "      <td>28/01/2019 07:45</td>\n",
       "      <td>28/01/2019 07:45</td>\n",
       "      <td>REALIZADO</td>\n",
       "      <td>NaN</td>\n",
       "      <td>janeiro</td>\n",
       "    </tr>\n",
       "  </tbody>\n",
       "</table>\n",
       "</div>"
      ],
      "text/plain": [
       "  Sigla  da Empresa Número do Voo D I Tipo de Linha Aeroporto Origem  \\\n",
       "0               AAF            35   0             I             LFPO   \n",
       "1               AAF            35   0             I             LFPO   \n",
       "2               AAF            35   0             I             LFPO   \n",
       "3               AAF            36   0             I             SBKP   \n",
       "4               AAF            36   0             I             SBKP   \n",
       "\n",
       "  Aeroporto Destino  Partida Prevista      Partida Real  Chegada Prevista  \\\n",
       "0              SBKP  25/01/2019 06:15  25/01/2019 06:15  25/01/2019 18:15   \n",
       "1              SBKP  27/01/2019 06:15  27/01/2019 06:15  27/01/2019 18:15   \n",
       "2              SBKP  29/01/2019 06:15  29/01/2019 06:15  29/01/2019 18:15   \n",
       "3              LFPO  25/01/2019 20:15  25/01/2019 20:15  26/01/2019 07:45   \n",
       "4              LFPO  27/01/2019 20:15  27/01/2019 20:15  28/01/2019 07:45   \n",
       "\n",
       "       Chegada Real   Situação Justificativa      mês  \n",
       "0  25/01/2019 18:15  REALIZADO           NaN  janeiro  \n",
       "1  27/01/2019 18:15  REALIZADO           NaN  janeiro  \n",
       "2  29/01/2019 18:15  REALIZADO           NaN  janeiro  \n",
       "3  26/01/2019 07:45  REALIZADO           NaN  janeiro  \n",
       "4  28/01/2019 07:45  REALIZADO           NaN  janeiro  "
      ]
     },
     "execution_count": 49,
     "metadata": {},
     "output_type": "execute_result"
    }
   ],
   "source": [
    "dados2019.head()"
   ]
  },
  {
   "cell_type": "code",
   "execution_count": 50,
   "metadata": {
    "id": "5Cf729gAeYpY"
   },
   "outputs": [
    {
     "name": "stdout",
     "output_type": "stream",
     "text": [
      "2019/2019_1.csv\n",
      "2019/2019_2.csv\n",
      "2019/2019_3.csv\n",
      "2019/2019_4.csv\n",
      "2019/2019_5.csv\n",
      "2019/2019_6.csv\n",
      "2019/2019_7.csv\n",
      "2019/2019_8.csv\n",
      "2019/2019_9.csv\n",
      "2019/2019_10.csv\n",
      "2019/2019_11.csv\n",
      "2019/2019_12.csv\n"
     ]
    }
   ],
   "source": [
    "#Criar pasta para salvar os arquivos de 2019\n",
    "os.mkdir('./2019')\n",
    "\n",
    "#Exportar dados de 2019 em arquivos .CSV mensais com a mesma formatação\n",
    "\n",
    "nome = \"2019/2019_{}.csv\"\n",
    "aux = 1\n",
    "for i in lista:\n",
    "    i.to_csv(nome.format(aux), index = False)\n",
    "    print(nome.format(aux))\n",
    "    aux += 1"
   ]
  },
  {
   "cell_type": "code",
   "execution_count": null,
   "metadata": {},
   "outputs": [],
   "source": []
  }
 ],
 "metadata": {
  "colab": {
   "name": "1_Unindo_arquivos_por_ano.ipynb",
   "provenance": [],
   "toc_visible": true
  },
  "kernelspec": {
   "display_name": "Python 3",
   "language": "python",
   "name": "python3"
  },
  "language_info": {
   "codemirror_mode": {
    "name": "ipython",
    "version": 3
   },
   "file_extension": ".py",
   "mimetype": "text/x-python",
   "name": "python",
   "nbconvert_exporter": "python",
   "pygments_lexer": "ipython3",
   "version": "3.7.6"
  }
 },
 "nbformat": 4,
 "nbformat_minor": 1
}
