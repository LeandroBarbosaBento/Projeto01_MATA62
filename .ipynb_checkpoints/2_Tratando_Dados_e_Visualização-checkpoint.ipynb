{
 "cells": [
  {
   "cell_type": "code",
   "execution_count": 1,
   "metadata": {
    "executionInfo": {
     "elapsed": 1352,
     "status": "ok",
     "timestamp": 1601468305137,
     "user": {
      "displayName": "Leandro Barbosa",
      "photoUrl": "https://lh3.googleusercontent.com/a-/AOh14GhGcTnBlkKPvdBUHyFXYBaIUdh4YcQPJjQDbVI8Bg=s64",
      "userId": "10454022255057001966"
     },
     "user_tz": 180
    },
    "id": "SvrQbIUIgh3s"
   },
   "outputs": [],
   "source": [
    "import pandas as pd\n",
    "import matplotlib as mp\n",
    "import matplotlib.pyplot as plt"
   ]
  },
  {
   "cell_type": "markdown",
   "metadata": {},
   "source": [
    "# Carregar arquivos\n",
    "+ leitura de arquivos no programa e concatenação dos arquivos mensais em dataframes com dados anuais"
   ]
  },
  {
   "cell_type": "code",
   "execution_count": 2,
   "metadata": {},
   "outputs": [
    {
     "name": "stderr",
     "output_type": "stream",
     "text": [
      "/home/leandro/anaconda3/lib/python3.7/site-packages/IPython/core/interactiveshell.py:3063: DtypeWarning: Columns (2) have mixed types.Specify dtype option on import or set low_memory=False.\n",
      "  interactivity=interactivity, compiler=compiler, result=result)\n"
     ]
    }
   ],
   "source": [
    "#LEITURA DOS DADOS DE 2015 EM UM ÚNICO DATASET\n",
    "lista = []\n",
    "caminho = '2015/2015_{}.csv'\n",
    "for i in range(1,13):\n",
    "    lista.append(pd.read_csv(caminho.format(i)))\n",
    "    \n",
    "dados2015 = pd.concat(lista)\n",
    "dados2015.columns = ['SiglaDaEmpresa', 'NúmeroDoVoo', 'DI', 'TipoDeLinha', 'AeroportoOrigem', 'AeroportoDestino', 'PartidaPrevista', 'PartidaReal', 'ChegadaPrevista', 'ChegadaReal', 'Situacao', 'Justificativa', 'mes']\n",
    "\n",
    "#Exibir informações do dataset\n",
    "#print(dados2015.shape)\n",
    "#print(dados2015.columns)\n",
    "#dados2015.head()\n",
    "\n"
   ]
  },
  {
   "cell_type": "code",
   "execution_count": 3,
   "metadata": {},
   "outputs": [],
   "source": [
    "#LEITURA DOS DADOS DE 2016 EM UM ÚNICO DATASET\n",
    "lista.clear()\n",
    "caminho = '2016/2016_{}.csv'\n",
    "for i in range(1,13):\n",
    "    lista.append(pd.read_csv(caminho.format(i)))\n",
    "    \n",
    "dados2016 = pd.concat(lista)\n",
    "dados2016.columns = ['SiglaDaEmpresa', 'NúmeroDoVoo', 'DI', 'TipoDeLinha', 'AeroportoOrigem', 'AeroportoDestino', 'PartidaPrevista', 'PartidaReal', 'ChegadaPrevista', 'ChegadaReal', 'Situacao', 'Justificativa', 'mes']\n"
   ]
  },
  {
   "cell_type": "code",
   "execution_count": 4,
   "metadata": {},
   "outputs": [],
   "source": [
    "#LEITURA DOS DADOS DE 2017 EM UM ÚNICO DATASET\n",
    "lista.clear()\n",
    "caminho = '2017/2017_{}.csv'\n",
    "for i in range(1,13):\n",
    "    lista.append(pd.read_csv(caminho.format(i)))\n",
    "    \n",
    "dados2017 = pd.concat(lista)\n",
    "dados2017.columns = ['SiglaDaEmpresa', 'NúmeroDoVoo', 'DI', 'TipoDeLinha', 'AeroportoOrigem', 'AeroportoDestino', 'PartidaPrevista', 'PartidaReal', 'ChegadaPrevista', 'ChegadaReal', 'Situacao', 'Justificativa', 'mes']\n"
   ]
  },
  {
   "cell_type": "code",
   "execution_count": 5,
   "metadata": {},
   "outputs": [],
   "source": [
    "#LEITURA DOS DADOS DE 2018 EM UM ÚNICO DATASET\n",
    "lista.clear()\n",
    "caminho = '2018/2018_{}.csv'\n",
    "for i in range(1,13):\n",
    "    lista.append(pd.read_csv(caminho.format(i)))\n",
    "    \n",
    "dados2018 = pd.concat(lista)\n",
    "dados2018.columns = ['SiglaDaEmpresa', 'NúmeroDoVoo', 'DI', 'TipoDeLinha', 'AeroportoOrigem', 'AeroportoDestino', 'PartidaPrevista', 'PartidaReal', 'ChegadaPrevista', 'ChegadaReal', 'Situacao', 'Justificativa', 'mes']\n"
   ]
  },
  {
   "cell_type": "code",
   "execution_count": 6,
   "metadata": {},
   "outputs": [],
   "source": [
    "#LEITURA DOS DADOS DE 2019 EM UM ÚNICO DATASET\n",
    "lista.clear()\n",
    "caminho = '2019/2019_{}.csv'\n",
    "for i in range(1,13):\n",
    "    lista.append(pd.read_csv(caminho.format(i)))\n",
    "    \n",
    "dados2019 = pd.concat(lista)\n",
    "dados2019.columns = ['SiglaDaEmpresa', 'NúmeroDoVoo', 'DI', 'TipoDeLinha', 'AeroportoOrigem', 'AeroportoDestino', 'PartidaPrevista', 'PartidaReal', 'ChegadaPrevista', 'ChegadaReal', 'Situacao', 'Justificativa', 'mes']\n"
   ]
  },
  {
   "cell_type": "markdown",
   "metadata": {},
   "source": [
    "# Visualizar se os dataframes foram carregados de maneira correta\n",
    "+ 5 primeiras linhas de cada um deles"
   ]
  },
  {
   "cell_type": "code",
   "execution_count": null,
   "metadata": {
    "id": "9xeZrCzzgyxK"
   },
   "outputs": [],
   "source": [
    "dados2015.head()"
   ]
  },
  {
   "cell_type": "code",
   "execution_count": null,
   "metadata": {
    "id": "00KnqTOygyvR"
   },
   "outputs": [],
   "source": [
    "dados2016.head()"
   ]
  },
  {
   "cell_type": "code",
   "execution_count": null,
   "metadata": {
    "id": "p_ZGYe20gytO"
   },
   "outputs": [],
   "source": [
    "dados2017.head()"
   ]
  },
  {
   "cell_type": "code",
   "execution_count": null,
   "metadata": {
    "id": "5sCxfGiKgyrj"
   },
   "outputs": [],
   "source": [
    "dados2018.head()"
   ]
  },
  {
   "cell_type": "code",
   "execution_count": null,
   "metadata": {
    "id": "_MFtwZpBgypl"
   },
   "outputs": [],
   "source": [
    "dados2019.head()"
   ]
  },
  {
   "cell_type": "markdown",
   "metadata": {},
   "source": [
    "# Criação de gráficos para gerar a dashboard"
   ]
  },
  {
   "cell_type": "code",
   "execution_count": null,
   "metadata": {},
   "outputs": [],
   "source": [
    "#Histograma: quantidade de voos por empresa\n",
    "#Observar tamanho da figura para que apareçam de maneira mais legível os nomes das empresas\n",
    "#Talvez retirar algumas das empresas que fizeram menor número de voos para melhorar a visualização\n",
    "dados2015['SiglaDaEmpresa'].hist(bins = 82 , figsize = (35, 12))"
   ]
  },
  {
   "cell_type": "code",
   "execution_count": null,
   "metadata": {},
   "outputs": [],
   "source": [
    "dados2015.columns"
   ]
  },
  {
   "cell_type": "code",
   "execution_count": 7,
   "metadata": {},
   "outputs": [],
   "source": [
    "#Selecionar dataset com colunas de empresas e meses do ano de 2015\n",
    "dados2015PorMes = dados2015.filter(items = ['SiglaDaEmpresa', 'mes'], axis = 1).groupby('mes').count()"
   ]
  },
  {
   "cell_type": "code",
   "execution_count": 8,
   "metadata": {},
   "outputs": [],
   "source": [
    "#Adicionar coluna com números referentes ao mês\n",
    "#Facilita na ordenação\n",
    "dados2015PorMes['mesNumero'] = [4, 8, 12, 2, 1, 7, 6, 5, 3, 11, 10, 9]"
   ]
  },
  {
   "cell_type": "code",
   "execution_count": 9,
   "metadata": {},
   "outputs": [],
   "source": [
    "#Ordenar o dataframe\n",
    "dados2015PorMes = dados2015PorMes.sort_values(by = \"mesNumero\", ascending = True)"
   ]
  },
  {
   "cell_type": "code",
   "execution_count": 22,
   "metadata": {
    "scrolled": true
   },
   "outputs": [
    {
     "data": {
      "text/plain": [
       "<matplotlib.legend.Legend at 0x7f8a6d6f16d0>"
      ]
     },
     "execution_count": 22,
     "metadata": {},
     "output_type": "execute_result"
    },
    {
     "data": {
      "image/png": "[encoded data removed]",
      "text/plain": [
       "<Figure size 360x360 with 1 Axes>"
      ]
     },
     "metadata": {
      "needs_background": "light"
     },
     "output_type": "display_data"
    }
   ],
   "source": [
    "#Criar gráfico de barras para a quantidade de voos por mês\n",
    "ax1 = dados2015PorMes.plot.bar(figsize=(5,5))\n",
    "ax1.set_title('Variação dos voos em 2015 ao longo dos meses')\n",
    "ax1.legend(labels = ['Voos'])"
   ]
  },
  {
   "cell_type": "code",
   "execution_count": 24,
   "metadata": {},
   "outputs": [
    {
     "data": {
      "text/plain": [
       "<matplotlib.legend.Legend at 0x7f8a6d563dd0>"
      ]
     },
     "execution_count": 24,
     "metadata": {},
     "output_type": "execute_result"
    },
    {
     "data": {
      "image/png": "[encoded data removed]",
      "text/plain": [
       "<Figure size 504x360 with 1 Axes>"
      ]
     },
     "metadata": {
      "needs_background": "light"
     },
     "output_type": "display_data"
    }
   ],
   "source": [
    "#Gerar gráfico de linha com a variação na quantidade de voos no ano de 2015\n",
    "ax2 = dados2015PorMes.plot(figsize=(7,5))\n",
    "ax2.set_title('Variação dos voos em 2015 ao longo dos meses')\n",
    "ax2.legend(labels = ['Voos'])"
   ]
  },
  {
   "cell_type": "code",
   "execution_count": 14,
   "metadata": {},
   "outputs": [
    {
     "data": {
      "text/plain": [
       "<matplotlib.axes._subplots.AxesSubplot at 0x7f8a6dbd9f50>"
      ]
     },
     "execution_count": 14,
     "metadata": {},
     "output_type": "execute_result"
    }
   ],
   "source": []
  },
  {
   "cell_type": "code",
   "execution_count": null,
   "metadata": {},
   "outputs": [],
   "source": [
    "dados2015.filter(items = ['SiglaDaEmpresa', 'mes'], axis = 1)"
   ]
  },
  {
   "cell_type": "code",
   "execution_count": null,
   "metadata": {},
   "outputs": [],
   "source": []
  },
  {
   "cell_type": "code",
   "execution_count": null,
   "metadata": {},
   "outputs": [],
   "source": [
    "#Importar numpy para utilizar a função np.where() para adicionar a coluna atrasou ou não atrasou ao dataset.\n",
    "import numpy as np"
   ]
  },
  {
   "cell_type": "code",
   "execution_count": null,
   "metadata": {},
   "outputs": [],
   "source": [
    "#Adicionar coluna informando se o voo atrasou ou não\n",
    "#Voos cancelados aparecem como atrasados -> como mudar?\n",
    "dados2015[\"Atrasou\"] = np.where(dados2015['PartidaPrevista'] >= dados2015['PartidaReal'],0,1)"
   ]
  },
  {
   "cell_type": "code",
   "execution_count": null,
   "metadata": {},
   "outputs": [],
   "source": [
    "#Histograma com a quantidade de voos que atrasaram e que não atrasaram\n",
    "dados2015['Atrasou'].hist(bins = 3 , figsize = (10, 5))"
   ]
  },
  {
   "cell_type": "code",
   "execution_count": null,
   "metadata": {},
   "outputs": [],
   "source": [
    "#Histograma com os meses nos quais mais se viajou em 2015\n",
    "dados2015['mes'].hist(bins = 24 , figsize = (20, 8))"
   ]
  },
  {
   "cell_type": "code",
   "execution_count": null,
   "metadata": {},
   "outputs": [],
   "source": [
    "#Selecionar dados em dataset apenas com coluna de nome da empresa e informação de atraso. \n",
    "dadosSelecionados = dados2015.filter(items = ['SiglaDaEmpresa', 'Atrasou'])"
   ]
  },
  {
   "cell_type": "code",
   "execution_count": null,
   "metadata": {},
   "outputs": [],
   "source": [
    "#Remover os NaN do conjunto de dados\n",
    "dadosSelecionados = dadosSelecionados.dropna()"
   ]
  },
  {
   "cell_type": "code",
   "execution_count": null,
   "metadata": {},
   "outputs": [],
   "source": [
    "dadosSelecionados.columns = ['Voos', 'Situacao']"
   ]
  },
  {
   "cell_type": "code",
   "execution_count": null,
   "metadata": {},
   "outputs": [],
   "source": [
    "dadosSelecionados.head()"
   ]
  },
  {
   "cell_type": "code",
   "execution_count": null,
   "metadata": {},
   "outputs": [],
   "source": [
    "#Quantidade de dados que atrasaram e não atrasaram\n",
    "AtrasouOuNao = dadosSelecionados.groupby(\"Situacao\").count().sort_values(by = \"Voos\", ascending = False)"
   ]
  },
  {
   "cell_type": "code",
   "execution_count": null,
   "metadata": {},
   "outputs": [],
   "source": [
    "AtrasouOuNao.index = ['Atrasou', 'Não atrasou']"
   ]
  },
  {
   "cell_type": "code",
   "execution_count": null,
   "metadata": {},
   "outputs": [],
   "source": [
    "AtrasouOuNao.head()"
   ]
  },
  {
   "cell_type": "code",
   "execution_count": null,
   "metadata": {},
   "outputs": [],
   "source": [
    "AtrasouOuNao.plot.bar()"
   ]
  },
  {
   "cell_type": "code",
   "execution_count": null,
   "metadata": {},
   "outputs": [],
   "source": [
    "dados2015.columns"
   ]
  },
  {
   "cell_type": "code",
   "execution_count": null,
   "metadata": {},
   "outputs": [],
   "source": [
    "dadosSelecionados.head()"
   ]
  },
  {
   "cell_type": "code",
   "execution_count": null,
   "metadata": {
    "id": "PrOeZElRhkfS"
   },
   "outputs": [],
   "source": []
  },
  {
   "cell_type": "code",
   "execution_count": null,
   "metadata": {
    "id": "1fzXdyW-hkb9"
   },
   "outputs": [],
   "source": []
  },
  {
   "cell_type": "code",
   "execution_count": null,
   "metadata": {
    "id": "zUprvcIHhkZr"
   },
   "outputs": [],
   "source": []
  },
  {
   "cell_type": "code",
   "execution_count": null,
   "metadata": {
    "id": "Oo12oCkr66Af"
   },
   "outputs": [],
   "source": []
  },
  {
   "cell_type": "code",
   "execution_count": null,
   "metadata": {
    "id": "dcV_9G5R658w"
   },
   "outputs": [],
   "source": []
  },
  {
   "cell_type": "code",
   "execution_count": null,
   "metadata": {
    "id": "flbfU7_D8Lta"
   },
   "outputs": [],
   "source": []
  },
  {
   "cell_type": "code",
   "execution_count": null,
   "metadata": {
    "id": "Vy2Wr0F08LrP"
   },
   "outputs": [],
   "source": []
  },
  {
   "cell_type": "code",
   "execution_count": null,
   "metadata": {
    "id": "ShIoA4N48LpA"
   },
   "outputs": [],
   "source": []
  },
  {
   "cell_type": "code",
   "execution_count": null,
   "metadata": {},
   "outputs": [],
   "source": []
  }
 ],
 "metadata": {
  "colab": {
   "name": "2_Tratando_Dados_e_Visualização.ipynb",
   "provenance": []
  },
  "kernelspec": {
   "display_name": "Python 3",
   "language": "python",
   "name": "python3"
  },
  "language_info": {
   "codemirror_mode": {
    "name": "ipython",
    "version": 3
   },
   "file_extension": ".py",
   "mimetype": "text/x-python",
   "name": "python",
   "nbconvert_exporter": "python",
   "pygments_lexer": "ipython3",
   "version": "3.7.6"
  }
 },
 "nbformat": 4,
 "nbformat_minor": 1
}
