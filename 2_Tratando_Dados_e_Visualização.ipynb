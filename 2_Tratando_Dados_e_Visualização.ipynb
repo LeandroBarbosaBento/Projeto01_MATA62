{
 "cells": [
  {
   "cell_type": "code",
   "execution_count": null,
   "metadata": {
    "executionInfo": {
     "elapsed": 1352,
     "status": "ok",
     "timestamp": 1601468305137,
     "user": {
      "displayName": "Leandro Barbosa",
      "photoUrl": "https://lh3.googleusercontent.com/a-/AOh14GhGcTnBlkKPvdBUHyFXYBaIUdh4YcQPJjQDbVI8Bg=s64",
      "userId": "10454022255057001966"
     },
     "user_tz": 180
    },
    "id": "SvrQbIUIgh3s"
   },
   "outputs": [],
   "source": [
    "import pandas as pd\n",
    "import matplotlib as mp\n",
    "import matplotlib.pyplot as plt"
   ]
  },
  {
   "cell_type": "code",
   "execution_count": null,
   "metadata": {},
   "outputs": [],
   "source": [
    "#LEITURA DOS DADOS DE 2015 EM UM ÚNICO DATASET\n",
    "lista = []\n",
    "caminho = '2015/2015_{}.csv'\n",
    "for i in range(1,13):\n",
    "    lista.append(pd.read_csv(caminho.format(i)))\n",
    "    \n",
    "dados2015 = pd.concat(lista)\n",
    "\n",
    "#Exibir informações do dataset\n",
    "#print(dados2015.shape)\n",
    "#print(dados2015.columns)\n",
    "#dados2015.head()\n",
    "\n"
   ]
  },
  {
   "cell_type": "code",
   "execution_count": null,
   "metadata": {},
   "outputs": [],
   "source": [
    "#LEITURA DOS DADOS DE 2016 EM UM ÚNICO DATASET\n",
    "lista.clear()\n",
    "caminho = '2016/2016_{}.csv'\n",
    "for i in range(1,13):\n",
    "    lista.append(pd.read_csv(caminho.format(i)))\n",
    "    \n",
    "dados2016 = pd.concat(lista)"
   ]
  },
  {
   "cell_type": "code",
   "execution_count": null,
   "metadata": {},
   "outputs": [],
   "source": [
    "#LEITURA DOS DADOS DE 2017 EM UM ÚNICO DATASET\n",
    "lista.clear()\n",
    "caminho = '2017/2017_{}.csv'\n",
    "for i in range(1,13):\n",
    "    lista.append(pd.read_csv(caminho.format(i)))\n",
    "    \n",
    "dados2017 = pd.concat(lista)"
   ]
  },
  {
   "cell_type": "code",
   "execution_count": null,
   "metadata": {
    "scrolled": true
   },
   "outputs": [],
   "source": [
    "#LEITURA DOS DADOS DE 2018 EM UM ÚNICO DATASET\n",
    "lista.clear()\n",
    "caminho = '2018/2018_{}.csv'\n",
    "for i in range(1,13):\n",
    "    lista.append(pd.read_csv(caminho.format(i)))\n",
    "    \n",
    "dados2018 = pd.concat(lista)"
   ]
  },
  {
   "cell_type": "code",
   "execution_count": null,
   "metadata": {},
   "outputs": [],
   "source": [
    "#LEITURA DOS DADOS DE 2019 EM UM ÚNICO DATASET\n",
    "lista.clear()\n",
    "caminho = '2019/2019_{}.csv'\n",
    "for i in range(1,13):\n",
    "    lista.append(pd.read_csv(caminho.format(i)))\n",
    "    \n",
    "dados2019 = pd.concat(lista)\n"
   ]
  },
  {
   "cell_type": "code",
   "execution_count": null,
   "metadata": {
    "id": "9xeZrCzzgyxK"
   },
   "outputs": [],
   "source": [
    "dados2015.head()"
   ]
  },
  {
   "cell_type": "code",
   "execution_count": null,
   "metadata": {
    "id": "00KnqTOygyvR"
   },
   "outputs": [],
   "source": [
    "dados2016.head()"
   ]
  },
  {
   "cell_type": "code",
   "execution_count": null,
   "metadata": {
    "id": "p_ZGYe20gytO"
   },
   "outputs": [],
   "source": [
    "dados2017.head()"
   ]
  },
  {
   "cell_type": "code",
   "execution_count": null,
   "metadata": {
    "id": "5sCxfGiKgyrj"
   },
   "outputs": [],
   "source": [
    "dados2018.head()"
   ]
  },
  {
   "cell_type": "code",
   "execution_count": null,
   "metadata": {
    "id": "_MFtwZpBgypl"
   },
   "outputs": [],
   "source": [
    "dados2019.head()"
   ]
  },
  {
   "cell_type": "code",
   "execution_count": null,
   "metadata": {},
   "outputs": [],
   "source": [
    "dados = pd.concat([dados2015, dados2016, dados2017, dados2018, dados2019], ignore_index=True, axis = 0)"
   ]
  },
  {
   "cell_type": "code",
   "execution_count": null,
   "metadata": {
    "scrolled": true
   },
   "outputs": [],
   "source": [
    "dados.head()"
   ]
  },
  {
   "cell_type": "code",
   "execution_count": null,
   "metadata": {},
   "outputs": [],
   "source": [
    "dados.columns"
   ]
  },
  {
   "cell_type": "code",
   "execution_count": null,
   "metadata": {},
   "outputs": [],
   "source": [
    "#Quantidade de voos por empresa\n",
    "dados['Sigla  da Empresa'].value_counts()"
   ]
  },
  {
   "cell_type": "code",
   "execution_count": null,
   "metadata": {
    "scrolled": true
   },
   "outputs": [],
   "source": [
    "#Quantidade de voos por empresa\n"
   ]
  },
  {
   "cell_type": "code",
   "execution_count": null,
   "metadata": {},
   "outputs": [],
   "source": []
  },
  {
   "cell_type": "code",
   "execution_count": null,
   "metadata": {},
   "outputs": [],
   "source": [
    "#Histograma: quantidade de voos por empresa\n",
    "#Observar tamanho da figura para que apareçam de maneira mais legível os nomes das empresas\n",
    "#Talvez retirar algumas das empresas que fizeram menor número de voos para melhorar a visualização\n",
    "dados2015['Sigla  da Empresa'].hist(bins = 35 , figsize = (35, 12))"
   ]
  },
  {
   "cell_type": "code",
   "execution_count": null,
   "metadata": {},
   "outputs": [],
   "source": [
    "dados.info()"
   ]
  },
  {
   "cell_type": "code",
   "execution_count": null,
   "metadata": {},
   "outputs": [],
   "source": [
    "#Importar numpy para utilizar a função np.where() para adicionar a coluna atrasou ou não atrasou ao dataset.\n",
    "import numpy as np"
   ]
  },
  {
   "cell_type": "code",
   "execution_count": null,
   "metadata": {},
   "outputs": [],
   "source": [
    "#Adicionar coluna informando se o voo atrasou ou não\n",
    "#Voos cancelados aparecem como atrasados -> como mudar?\n",
    "dados[\"Atrasou\"] = np.where(dados['Partida Prevista'] >= dados['Partida Real'],0,1)"
   ]
  },
  {
   "cell_type": "code",
   "execution_count": null,
   "metadata": {},
   "outputs": [],
   "source": [
    "#Adicionar coluna informando se o voo atrasou ou não em 2015\n",
    "#Voos cancelados aparecem como atrasados -> como mudar?\n",
    "dados2015[\"Atrasou\"] = np.where(dados2015['Partida Prevista'] >= dados2015['Partida Real'],0,1)"
   ]
  },
  {
   "cell_type": "code",
   "execution_count": null,
   "metadata": {},
   "outputs": [],
   "source": [
    "dados2015.head()"
   ]
  },
  {
   "cell_type": "code",
   "execution_count": null,
   "metadata": {},
   "outputs": [],
   "source": [
    "#Histograma com a quantidade de voos que atrasaram e que não atrasaram\n",
    "dados['Atrasou'].hist(bins = 3 , figsize = (10, 5))"
   ]
  },
  {
   "cell_type": "code",
   "execution_count": null,
   "metadata": {},
   "outputs": [],
   "source": [
    "#Histograma com os meses nos quais mais se viaja\n",
    "dados['mês'].hist(bins = 24 , figsize = (20, 8))"
   ]
  },
  {
   "cell_type": "code",
   "execution_count": null,
   "metadata": {},
   "outputs": [],
   "source": [
    "#Voos por mês no ano de 2015\n",
    "dados2015['mês'].hist(bins = 24 , figsize = (20, 10))"
   ]
  },
  {
   "cell_type": "code",
   "execution_count": null,
   "metadata": {},
   "outputs": [],
   "source": [
    "dadosSelecionados = dados2015.filter(items = ['Sigla  da Empresa', 'Atrasou'])"
   ]
  },
  {
   "cell_type": "code",
   "execution_count": null,
   "metadata": {},
   "outputs": [],
   "source": [
    "#Remover os NaN do conjunto de dados\n",
    "dadosSelecionados = dadosSelecionados.dropna()"
   ]
  },
  {
   "cell_type": "code",
   "execution_count": null,
   "metadata": {},
   "outputs": [],
   "source": [
    "dadosSelecionados.head()"
   ]
  },
  {
   "cell_type": "code",
   "execution_count": null,
   "metadata": {},
   "outputs": [],
   "source": [
    "#Quantidade de dados que atrasaram e não atrasaram\n",
    "dadosSelecionados.groupby(\"Atrasou\").count().sort_values(by = \"Sigla  da Empresa\", ascending = False)"
   ]
  },
  {
   "cell_type": "code",
   "execution_count": null,
   "metadata": {},
   "outputs": [],
   "source": [
    "dados2015.columns"
   ]
  },
  {
   "cell_type": "code",
   "execution_count": null,
   "metadata": {
    "scrolled": true
   },
   "outputs": [],
   "source": [
    "#dados2015.groupby(\"Aeroporto Origem\").count()"
   ]
  },
  {
   "cell_type": "code",
   "execution_count": null,
   "metadata": {},
   "outputs": [],
   "source": [
    "dadosSelecionados.groupby('Sigla  da Empresa').count()\n",
    "#Filtrar apenas por dados 1 na coluna atrasou"
   ]
  },
  {
   "cell_type": "code",
   "execution_count": null,
   "metadata": {},
   "outputs": [],
   "source": [
    "dadosSelecionados.head()"
   ]
  },
  {
   "cell_type": "code",
   "execution_count": null,
   "metadata": {},
   "outputs": [],
   "source": []
  },
  {
   "cell_type": "code",
   "execution_count": null,
   "metadata": {},
   "outputs": [],
   "source": []
  },
  {
   "cell_type": "code",
   "execution_count": null,
   "metadata": {
    "id": "PrOeZElRhkfS"
   },
   "outputs": [],
   "source": []
  },
  {
   "cell_type": "code",
   "execution_count": null,
   "metadata": {
    "id": "1fzXdyW-hkb9"
   },
   "outputs": [],
   "source": []
  },
  {
   "cell_type": "code",
   "execution_count": null,
   "metadata": {
    "id": "zUprvcIHhkZr"
   },
   "outputs": [],
   "source": []
  },
  {
   "cell_type": "code",
   "execution_count": null,
   "metadata": {
    "id": "Oo12oCkr66Af"
   },
   "outputs": [],
   "source": []
  },
  {
   "cell_type": "code",
   "execution_count": null,
   "metadata": {
    "id": "dcV_9G5R658w"
   },
   "outputs": [],
   "source": []
  },
  {
   "cell_type": "code",
   "execution_count": null,
   "metadata": {
    "id": "flbfU7_D8Lta"
   },
   "outputs": [],
   "source": []
  },
  {
   "cell_type": "code",
   "execution_count": null,
   "metadata": {
    "id": "Vy2Wr0F08LrP"
   },
   "outputs": [],
   "source": []
  },
  {
   "cell_type": "code",
   "execution_count": null,
   "metadata": {
    "id": "ShIoA4N48LpA"
   },
   "outputs": [],
   "source": []
  },
  {
   "cell_type": "code",
   "execution_count": null,
   "metadata": {},
   "outputs": [],
   "source": []
  }
 ],
 "metadata": {
  "colab": {
   "name": "2_Tratando_Dados_e_Visualização.ipynb",
   "provenance": []
  },
  "kernelspec": {
   "display_name": "Python 3",
   "language": "python",
   "name": "python3"
  },
  "language_info": {
   "codemirror_mode": {
    "name": "ipython",
    "version": 3
   },
   "file_extension": ".py",
   "mimetype": "text/x-python",
   "name": "python",
   "nbconvert_exporter": "python",
   "pygments_lexer": "ipython3",
   "version": "3.7.6"
  }
 },
 "nbformat": 4,
 "nbformat_minor": 1
}
